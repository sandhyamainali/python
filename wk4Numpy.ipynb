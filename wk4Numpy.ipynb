{
 "cells": [
  {
   "cell_type": "markdown",
   "metadata": {},
   "source": [
    "## Numpy\n",
    "- collection of high level  mathematical functional operation\n",
    "- matrix: two dimensional data\n",
    "- numerical python\n"
   ]
  },
  {
   "cell_type": "markdown",
   "metadata": {},
   "source": [
    "## Feature of NUMpy\n",
    "- A powerful N-dimensional array object\n",
    "- Sophisticated (broadcasting function)\n",
    "- Tools for integration c/c++ and fortran code"
   ]
  },
  {
   "cell_type": "markdown",
   "metadata": {},
   "source": [
    "## Dif bet numpy and python list\n",
    "- numpyarry:fast program (memory use once\n",
    "), store variable in stack i.e 1,2,3,4 (data type phaila nai tha hunxa, no need to def data type)\n",
    "- python list:slow(item define) to use 1.meta data i.e int, string 2. actual value arko thauma use hunxa\n"
   ]
  },
  {
   "cell_type": "markdown",
   "metadata": {},
   "source": []
  },
  {
   "cell_type": "markdown",
   "metadata": {},
   "source": [
    "## From Python List, Tuple"
   ]
  },
  {
   "cell_type": "code",
   "execution_count": 2,
   "metadata": {},
   "outputs": [
    {
     "data": {
      "text/plain": [
       "array([2, 3, 4, 5, 6])"
      ]
     },
     "metadata": {},
     "output_type": "display_data"
    },
    {
     "data": {
      "text/plain": [
       "array([1, 3, 4, 5])"
      ]
     },
     "metadata": {},
     "output_type": "display_data"
    },
    {
     "data": {
      "text/plain": [
       "numpy.ndarray"
      ]
     },
     "metadata": {},
     "output_type": "display_data"
    },
    {
     "data": {
      "text/plain": [
       "(5,)"
      ]
     },
     "metadata": {},
     "output_type": "display_data"
    },
    {
     "data": {
      "text/plain": [
       "dtype('int32')"
      ]
     },
     "metadata": {},
     "output_type": "display_data"
    }
   ],
   "source": [
    "import numpy as np\n",
    "from IPython.display import display\n",
    "#calc only number\n",
    "np_array=np.array([2,3,4,5,6])\n",
    "display(np_array)\n",
    "np_array_tuple=np.array((1,3,4,5)) # tuple\n",
    "display(np_array_tuple)\n",
    "display(type(np_array))\n",
    "display(np_array.shape)\n",
    "display(np_array.dtype)\n"
   ]
  },
  {
   "cell_type": "markdown",
   "metadata": {},
   "source": [
    "## Create array with default values\n",
    "- create an array with zero np.zeros((2,2))\n",
    "- create array filled with ones((2,2))\n",
    "- create an array filled with a specific value np.full((2,2),3)"
   ]
  },
  {
   "cell_type": "code",
   "execution_count": 3,
   "metadata": {},
   "outputs": [
    {
     "name": "stdout",
     "output_type": "stream",
     "text": [
      "[[0. 0.]\n",
      " [0. 0.]]\n",
      "[[1. 1. 1. 1.]\n",
      " [1. 1. 1. 1.]\n",
      " [1. 1. 1. 1.]]\n",
      "[[3 3 3]\n",
      " [3 3 3]]\n"
     ]
    }
   ],
   "source": [
    "zero_array=np.zeros((2,2)) # create n=2 m=2 array filled with zeros\n",
    "print(zero_array)\n",
    "ones_array=np.ones((3,4))\n",
    "print(ones_array)\n",
    "fill_array=np.full((2,3),3)\n",
    "print(fill_array)"
   ]
  },
  {
   "cell_type": "markdown",
   "metadata": {},
   "source": [
    "# creatung array with ranges of values\n",
    "- np.array (0,25,5) #[0,5,10,15,20]\n",
    "- np.linespace(0,100,1000)"
   ]
  },
  {
   "cell_type": "code",
   "execution_count": 9,
   "metadata": {},
   "outputs": [
    {
     "name": "stdout",
     "output_type": "stream",
     "text": [
      "[ 0  1  2  3  4  5  6  7  8  9 10 11 12 13 14 15 16 17 18 19 20 21 22 23\n",
      " 24]\n",
      "[  0.  10.  20.  30.  40.  50.  60.  70.  80.  90. 100.]\n"
     ]
    }
   ],
   "source": [
    "np_arrange=np.arange(0,25,1)\n",
    "print(np_arrange)\n",
    "np_linespace=np.linspace(0,100,11) # create evenly space 11-1 points from 0-100\n",
    "print(np_linespace)"
   ]
  },
  {
   "cell_type": "markdown",
   "metadata": {},
   "source": []
  },
  {
   "cell_type": "code",
   "execution_count": 8,
   "metadata": {},
   "outputs": [
    {
     "name": "stdout",
     "output_type": "stream",
     "text": [
      "[[1. 0. 0.]\n",
      " [0. 1. 0.]\n",
      " [0. 0. 1.]]\n",
      "[[1 0 0]\n",
      " [0 2 0]\n",
      " [0 0 3]]\n"
     ]
    }
   ],
   "source": [
    "identical_array=np.eye(3,3)\n",
    "print(identical_array)\n",
    "diagonal_array=np.diag([1,2,3])\n",
    "print(diagonal_array)"
   ]
  },
  {
   "cell_type": "markdown",
   "metadata": {},
   "source": [
    "### Random Array\n",
    "- np.random.rand([3,3] create 3 x 3)"
   ]
  },
  {
   "cell_type": "code",
   "execution_count": 11,
   "metadata": {},
   "outputs": [
    {
     "name": "stdout",
     "output_type": "stream",
     "text": [
      "[[0.39044714 0.24014247 0.31874418]\n",
      " [0.5522387  0.26616518 0.45631928]\n",
      " [0.51764133 0.2204667  0.52296565]]\n",
      "[[76 64 80]\n",
      " [88 25 58]\n",
      " [44 97 58]]\n",
      "[[ 5 10  4]\n",
      " [ 5 10  9]\n",
      " [10  1  5]]\n"
     ]
    }
   ],
   "source": [
    "import matplotlib.pyplot as plt\n",
    "random_array=np.random.rand(3,3)\n",
    "print(random_array)\n",
    "\n",
    "rand_in_bet=np.random.randint(1,100,(3,3))\n",
    "print(rand_in_bet)\n",
    "random_choice=np.random.choice([1,2,4,5,9,10],size=(3,3))\n",
    "print(random_choice)"
   ]
  },
  {
   "cell_type": "markdown",
   "metadata": {},
   "source": [
    "## Normal Distribution\n",
    "- data collect show in bell shape curve"
   ]
  },
  {
   "cell_type": "code",
   "execution_count": 13,
   "metadata": {},
   "outputs": [
    {
     "data": {
      "image/png": "[encoded data removed]",
      "text/plain": [
       "<Figure size 640x480 with 1 Axes>"
      ]
     },
     "metadata": {},
     "output_type": "display_data"
    }
   ],
   "source": [
    "#draw histogram from normal distribution\n",
    "mu,sigma=0,0.1 #mean and standard deviation\n",
    "rand_array_normal_distro=np.random.normal(mu,sigma,1000) # normal distribution\n",
    "count,bins,ignored= plt.hist(rand_array_normal_distro,30,density=True)\n",
    "plt.plot(bins,1/(sigma * np.sqrt(2 * np.pi))* np.exp(-(bins-mu)**2/(2* sigma**2)),linewidth=2,color='r')\n",
    "plt.show()"
   ]
  },
  {
   "cell_type": "markdown",
   "metadata": {},
   "source": [
    "## Reshaping Array using Reshape method\n",
    "- Reshape array of size(m,n)to(m1,m2)"
   ]
  },
  {
   "cell_type": "code",
   "execution_count": 14,
   "metadata": {},
   "outputs": [
    {
     "name": "stdout",
     "output_type": "stream",
     "text": [
      "Original array:\n",
      " [1 2 3 4 5 6]\n",
      "Reshape array:\n",
      " [[1 2 3]\n",
      " [4 5 6]]\n"
     ]
    }
   ],
   "source": [
    "import numpy as np\n",
    "# Reshaping 1,6,array to 2 x3 array\n",
    "arr=np.array([1,2,3,4,5,6])\n",
    "newarr=arr.reshape(2,3)\n",
    "print(\"Original array:\\n\",arr)\n",
    "print(\"Reshape array:\\n\",newarr)"
   ]
  },
  {
   "cell_type": "code",
   "execution_count": 15,
   "metadata": {},
   "outputs": [
    {
     "name": "stdout",
     "output_type": "stream",
     "text": [
      "Original array:\n",
      " [[1 2 3]\n",
      " [4 5 6]]\n",
      "Fattened array:\n",
      " [1 2 3 4 5 6]\n"
     ]
    }
   ],
   "source": [
    "#flatten array\n",
    "arr=np.array([\n",
    "    [1,2,3],\n",
    "    [4,5,6]\n",
    "])\n",
    "flat_arr=arr.flatten()\n",
    "print(\"Original array:\\n\",arr)\n",
    "print(\"Fattened array:\\n\",flat_arr)"
   ]
  },
  {
   "cell_type": "markdown",
   "metadata": {},
   "source": [
    "# Numpy Array Indexing and Slicing\n",
    "- Basic Indexing\n",
    "    - Indexing allow us to access the individual element or subsets of data"
   ]
  },
  {
   "cell_type": "code",
   "execution_count": 22,
   "metadata": {},
   "outputs": [
    {
     "name": "stdout",
     "output_type": "stream",
     "text": [
      "(6,)\n",
      "1\n",
      "6\n",
      "4\n",
      "(3, 3)\n",
      "2\n",
      "9\n",
      "1\n",
      "9\n",
      "6\n"
     ]
    }
   ],
   "source": [
    "# 1dimension Array\n",
    "arr=np.array([1,2,3,4,5,6])\n",
    "print(arr.shape)\n",
    "print(arr[0])\n",
    "print(arr[-1])\n",
    "print(arr[3])\n",
    "\n",
    "# 2 dimension array\n",
    "num_2d_array=np.array([\n",
    "    [1,2,3],\n",
    "    [4,5,6],\n",
    "    [7,8,9]\n",
    "])\n",
    "print(num_2d_array.shape)\n",
    "print(num_2d_array.ndim) # print dimension of array\n",
    "print(num_2d_array.size)# print total number of items\n",
    "\n",
    "print(num_2d_array[0,0])# first row first element =>1\n",
    "print(num_2d_array[-1,-1])# first row last element =>8\n",
    "print(num_2d_array[1,2])# second row third element =>6"
   ]
  },
  {
   "cell_type": "code",
   "execution_count": null,
   "metadata": {},
   "outputs": [],
   "source": []
  }
 ],
 "metadata": {
  "kernelspec": {
   "display_name": "base",
   "language": "python",
   "name": "python3"
  },
  "language_info": {
   "codemirror_mode": {
    "name": "ipython",
    "version": 3
   },
   "file_extension": ".py",
   "mimetype": "text/x-python",
   "name": "python",
   "nbconvert_exporter": "python",
   "pygments_lexer": "ipython3",
   "version": "3.12.7"
  }
 },
 "nbformat": 4,
 "nbformat_minor": 2
}
