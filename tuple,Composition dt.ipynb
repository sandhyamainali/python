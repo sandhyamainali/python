{
 "cells": [
  {
   "cell_type": "markdown",
   "metadata": {},
   "source": [
    "## Tuple\n"
   ]
  },
  {
   "cell_type": "markdown",
   "metadata": {},
   "source": [
    "- Immutable order list\n",
    "- Can't used append and remove\n",
    "- Indicate with small bracket\n"
   ]
  },
  {
   "cell_type": "code",
   "execution_count": null,
   "metadata": {},
   "outputs": [
    {
     "name": "stdout",
     "output_type": "stream",
     "text": [
      "(1, 2, 3)\n",
      "1\n",
      "3\n"
     ]
    }
   ],
   "source": [
    "# create a tuple representing a point in 3d space\n",
    "point = (1,2,3)\n",
    "print(point)\n",
    "#order\n",
    "print(point[0])\n",
    "#size\n",
    "print(len(point))"
   ]
  },
  {
   "cell_type": "markdown",
   "metadata": {},
   "source": [
    "### Set\n"
   ]
  },
  {
   "cell_type": "code",
   "execution_count": 6,
   "metadata": {},
   "outputs": [
    {
     "name": "stdout",
     "output_type": "stream",
     "text": [
      "{1, 2, 3, 4, 5}\n",
      "5\n",
      "{1, 2, 3, 4, 5, 6}\n",
      "{1, 2, 3, 5, 6}\n",
      "{1, 3, 5}\n",
      "{1, 2, 3, 5, 6, 7, 9}\n"
     ]
    }
   ],
   "source": [
    "natural_numbers = {1,2,3,4,5}\n",
    "print(natural_numbers)\n",
    "#unique size\n",
    "\n",
    "print(len(natural_numbers))\n",
    "\n",
    "# Mutable\n",
    "\n",
    "natural_numbers.add(6)\n",
    "print(natural_numbers)\n",
    "\n",
    "natural_numbers.remove(4)\n",
    "print(natural_numbers)\n",
    "\n",
    "\n",
    "odd_numbers= {1,3,5,7,9}\n",
    "common_items = natural_numbers.intersection(odd_numbers)\n",
    "print(common_items)\n",
    "\n",
    "#union\n",
    "\n",
    "all_numbers = natural_numbers.union(odd_numbers)\n",
    "print(all_numbers)"
   ]
  },
  {
   "cell_type": "markdown",
   "metadata": {},
   "source": [
    "### Range\n",
    "Range (start,stop,step)"
   ]
  },
  {
   "cell_type": "code",
   "execution_count": 16,
   "metadata": {},
   "outputs": [
    {
     "name": "stdout",
     "output_type": "stream",
     "text": [
      "1\n",
      "2\n",
      "3\n",
      "4\n",
      "5\n",
      "6\n",
      "7\n",
      "8\n",
      "9\n",
      "even number 2\n",
      "even number 4\n",
      "even number 6\n",
      "even number 8\n",
      "odd number 3\n",
      "odd number 5\n",
      "odd number 7\n",
      "odd number 9\n"
     ]
    }
   ],
   "source": [
    "#create  sequence of numbers \n",
    "numbers=range(1,10)\n",
    "for n in numbers:\n",
    "    print(n)\n",
    "\n",
    "even_numbers=range(2,10,2)\n",
    "for n in even_numbers:\n",
    "    print(\"even number\", n)\n",
    "\n",
    "odd_numbers=range(3,10,2)\n",
    "for n in odd_numbers:\n",
    "    print(\"odd number\",n)"
   ]
  },
  {
   "cell_type": "markdown",
   "metadata": {},
   "source": [
    "## Dictionary"
   ]
  },
  {
   "cell_type": "code",
   "execution_count": null,
   "metadata": {},
   "outputs": [
    {
     "name": "stdout",
     "output_type": "stream",
     "text": [
      "{'name': 'sandhya', 'age': 22, 'gender': 'female', 'occupation': 'student', 'location': 'Kathmandu'}\n",
      "sandhya\n",
      "Kathmandu\n",
      "{'name': 'sandhya', 'age': 23, 'gender': 'female', 'occupation': 'student', 'location': 'Kathmandu'}\n",
      "Yes\n",
      "\n",
      " Adding a new key-value pair: \n",
      "{'name': 'sandhya', 'age': 23, 'gender': 'female', 'occupation': 'student', 'location': 'Kathmandu', 'Hobby': 'reading'}\n",
      "{'name': 'sandhya', 'age': 23, 'gender': 'female', 'occupation': 'student', 'location': 'Bhaktapur', 'Hobby': 'reading'}\n",
      "\n",
      " Removing a key-value pair\n",
      "student\n",
      "{'name': 'sandhya', 'age': 23, 'gender': 'female', 'location': 'Bhaktapur', 'Hobby': 'reading'}\n",
      "\n",
      " Iterating over a dictionary\n",
      "name: sandhya\n",
      "age: 23\n",
      "gender: female\n",
      "location: Bhaktapur\n",
      "Hobby: reading\n",
      "\n",
      " Getting keys and values as lists:\n",
      "key: ['name', 'age', 'gender', 'location', 'Hobby']\n",
      "values: ['sandhya', 23, 'female', 'Bhaktapur', 'reading']\n",
      "5\n",
      "\n",
      " clearing dictionary\n",
      "{}\n"
     ]
    }
   ],
   "source": [
    "#student dictionary\n",
    "students= {'name': 'sandhya', 'age':22,'gender':'female','occupation':'student','location':'Kathmandu'}\n",
    "\n",
    "print(students)\n",
    "\n",
    "#accessing values\n",
    "print(students['name'])\n",
    "print(students['location'])\n",
    "\n",
    "\n",
    "# add/update key value\n",
    "\n",
    "students['age']=23\n",
    "print(students)\n",
    "\n",
    "#check if key exists in dictionary\n",
    "if 'location' in students:\n",
    "    print('Yes')\n",
    "else:\n",
    "    print('No') \n",
    "\n",
    "# Adding a new key-value pair\n",
    "print('\\n Adding a new key-value pair: ')\n",
    "students['Hobby']='reading'\n",
    "print(students)\n",
    "\n",
    "#updating a value key\n",
    "# print('\\n update a value key:')\n",
    "students['location']='Bhaktapur'\n",
    "print(students)\n",
    "\n",
    "# Removing a key-value pair\n",
    "print('\\n Removing a key-value pair')\n",
    "remove_value=students.pop('occupation')\n",
    "print(remove_value)\n",
    "print(students)\n",
    "\n",
    "# Iterating over a dictionary\n",
    "print('\\n Iterating over a dictionary')\n",
    "for key, value in students.items():\n",
    "    print(key + ':', value)\n",
    "\n",
    "# Getting keys and values as lists\n",
    "print('\\n Getting keys and values as lists:')\n",
    "key= list(students.keys())\n",
    "values=list(students.values())\n",
    "print('key:',key)\n",
    "print('values:',values)\n",
    "print(len(students))\n",
    "\n",
    "#clearing dictionary\n",
    "print('\\n clearing dictionary')\n",
    "students.clear()\n",
    "print(students)\n",
    "\n",
    "\n",
    "\n",
    "\n"
   ]
  },
  {
   "cell_type": "markdown",
   "metadata": {},
   "source": []
  }
 ],
 "metadata": {
  "kernelspec": {
   "display_name": "base",
   "language": "python",
   "name": "python3"
  },
  "language_info": {
   "codemirror_mode": {
    "name": "ipython",
    "version": 3
   },
   "file_extension": ".py",
   "mimetype": "text/x-python",
   "name": "python",
   "nbconvert_exporter": "python",
   "pygments_lexer": "ipython3",
   "version": "3.12.7"
  }
 },
 "nbformat": 4,
 "nbformat_minor": 2
}
