{
 "cells": [
  {
   "cell_type": "markdown",
   "metadata": {},
   "source": [
    "## Control Statment (Condition Statment)\n",
    "\n",
    "- if\n",
    "- if-else\n",
    "- if-elif-else (if-elseif-else)\n",
    "- Nested if statment\n",
    "- Ternary condition operator\n",
    "\n",
    "\n",
    "Note: Python doesn't have switch"
   ]
  },
  {
   "cell_type": "code",
   "execution_count": 8,
   "metadata": {},
   "outputs": [
    {
     "name": "stdout",
     "output_type": "stream",
     "text": [
      "Good Morning\n",
      "Today is Monday\n",
      "Monday is Good Day\n",
      "Gas\n"
     ]
    }
   ],
   "source": [
    "time = 10\n",
    "# if condition\n",
    "if time < 12:\n",
    "    print ('Good Morning')\n",
    "\n",
    "# if-else condition\n",
    "\n",
    "day= \"Monday\"\n",
    "if day == 'Monday':\n",
    "    print(\"Today is Monday\")\n",
    "    print('Monday is Good Day')\n",
    "else:\n",
    "    print(\"Today is not Monday\")\n",
    "\n",
    "# if-elif-else condition\n",
    "\n",
    "fuel_type ='Vehicle'\n",
    "\n",
    "if fuel_type == 'petrol':\n",
    "    print('Petrol')\n",
    "\n",
    "elif fuel_type == 'diesel':\n",
    "    print('Diesel')\n",
    "else:\n",
    "    print('Gas')\n",
    "\n",
    "\n"
   ]
  },
  {
   "cell_type": "code",
   "execution_count": null,
   "metadata": {},
   "outputs": [
    {
     "name": "stdout",
     "output_type": "stream",
     "text": [
      "Good Morning\n",
      "AM\n",
      "Good Afternoon\n"
     ]
    }
   ],
   "source": [
    "time = 11\n",
    "#if condition\n",
    "if time <12:\n",
    "    print('Good Morning')\n",
    "#if-else condition\n",
    "if time <12:\n",
    "    print('AM')\n",
    "else:\n",
    "    print('PM')\n",
    "#if-elif-else condition\n",
    "if time <12:\n",
    "    print('Hello !! Good Morning')\n",
    "elif time <18:\n",
    "    print('Good Afternoon')\n",
    "else:\n",
    "    print('Good Evening')\n"
   ]
  },
  {
   "cell_type": "code",
   "execution_count": 12,
   "metadata": {},
   "outputs": [
    {
     "name": "stdout",
     "output_type": "stream",
     "text": [
      "Electric Vehicle\n",
      "Lithium-ion\n"
     ]
    }
   ],
   "source": [
    "#if-elif-else\n",
    "fuel_type='electric'\n",
    "if fuel_type == 'electric':\n",
    "    print('Electric Vehicle')\n",
    "    battery_type =\"lithium-ion\"\n",
    "    if battery_type == \"lithium-ion\":\n",
    "        print('Lithium-ion')\n",
    "    else:\n",
    "        print(\"unknown battery type\")\n",
    "   \n",
    "elif fuel_type == 'diesel':\n",
    "    print('Diesel')\n",
    "    engine_type='turbo'\n",
    "    if engine_type == 'turbo':\n",
    "        print('Turbo')\n",
    "    else:\n",
    "        print('unknown engine type')\n",
    "elif fuel_type == 'diseal':\n",
    "    print('Disel')\n",
    "else:\n",
    "    print('Gas')"
   ]
  },
  {
   "cell_type": "markdown",
   "metadata": {},
   "source": [
    "## Ternary Operator"
   ]
  },
  {
   "cell_type": "code",
   "execution_count": null,
   "metadata": {},
   "outputs": [
    {
     "name": "stdout",
     "output_type": "stream",
     "text": [
      "20\n"
     ]
    }
   ],
   "source": [
    "x= 10\n",
    "y=20\n",
    "# if x is greater than y then x will be assigned to max_value\n",
    "# it will first check if x is greater than y\n",
    "max_value= x if x>y else y\n",
    "print(max_value)"
   ]
  },
  {
   "cell_type": "markdown",
   "metadata": {},
   "source": []
  }
 ],
 "metadata": {
  "kernelspec": {
   "display_name": "base",
   "language": "python",
   "name": "python3"
  },
  "language_info": {
   "codemirror_mode": {
    "name": "ipython",
    "version": 3
   },
   "file_extension": ".py",
   "mimetype": "text/x-python",
   "name": "python",
   "nbconvert_exporter": "python",
   "pygments_lexer": "ipython3",
   "version": "3.12.7"
  }
 },
 "nbformat": 4,
 "nbformat_minor": 2
}
