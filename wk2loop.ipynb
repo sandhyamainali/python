{
 "cells": [
  {
   "cell_type": "markdown",
   "metadata": {},
   "source": [
    "## Loop\n",
    "- for (iterates over sequence of values or elements)\n",
    "- while (while loop executes the block of code repeatedly as long as the specific condition is true)"
   ]
  },
  {
   "cell_type": "markdown",
   "metadata": {},
   "source": []
  },
  {
   "cell_type": "code",
   "execution_count": 2,
   "metadata": {},
   "outputs": [
    {
     "name": "stdout",
     "output_type": "stream",
     "text": [
      "1\n",
      "2\n",
      "3\n",
      "4\n",
      "5\n",
      "6\n",
      "7\n",
      "8\n",
      "9\n",
      "10\n",
      "\n",
      "\n",
      "10\n",
      "9\n",
      "8\n",
      "7\n",
      "6\n",
      "5\n",
      "4\n",
      "3\n",
      "2\n",
      "\n",
      "\n",
      "1\n",
      "3\n",
      "6\n",
      "10\n",
      "15\n",
      "21\n",
      "28\n",
      "36\n",
      "45\n",
      "55\n"
     ]
    }
   ],
   "source": [
    "# while loop\n",
    "\n",
    "i=1\n",
    "while i<11:\n",
    "    print(i)\n",
    "    i +=1\n",
    "\n",
    "print('\\n')\n",
    "i = 10\n",
    "while i>1:\n",
    "    print (i)\n",
    "    i -=1\n",
    "#sum of natural numbers\n",
    "print('\\n')\n",
    "i=1\n",
    "n = 10\n",
    "sum = 0\n",
    "while i <= n:\n",
    "    sum +=i\n",
    "    i +=1\n",
    "    print(sum)"
   ]
  },
  {
   "cell_type": "code",
   "execution_count": 15,
   "metadata": {},
   "outputs": [
    {
     "name": "stdout",
     "output_type": "stream",
     "text": [
      "1\n",
      "2\n",
      "6\n",
      "24\n"
     ]
    }
   ],
   "source": [
    "#find factorial\n",
    "i= 1\n",
    "factorial = 1\n",
    "n=5\n",
    "while i < n:\n",
    "    factorial *=i\n",
    "    i +=1\n",
    "    print(factorial)\n",
    "    \n",
    "   \n",
    "   "
   ]
  },
  {
   "cell_type": "markdown",
   "metadata": {},
   "source": [
    "## For Loop\n"
   ]
  },
  {
   "cell_type": "code",
   "execution_count": 7,
   "metadata": {},
   "outputs": [
    {
     "name": "stdout",
     "output_type": "stream",
     "text": [
      "1\n",
      "2\n",
      "3\n",
      "4\n",
      "5\n",
      "\n",
      "\n",
      "Index:0,Number:1\n",
      "Index:1,Number:2\n",
      "Index:2,Number:3\n",
      "Index:3,Number:4\n",
      "Index:4,Number:5\n",
      "[5, 5]\n",
      "factorial : 1\n",
      "factorial : 2\n",
      "factorial : 6\n",
      "factorial : 24\n",
      "factorial : 120\n"
     ]
    }
   ],
   "source": [
    "numbers =[1,2,3,4,5]\n",
    "#iterate over list using for loop\n",
    "#for item in list\n",
    "for number in numbers:\n",
    "    print(number)\n",
    "print('\\n')\n",
    "\n",
    "\n",
    "#print index and items using for loop\n",
    "for index, number in enumerate(numbers):\n",
    "    print(f\"Index:{index},Number:{number}\")\n",
    "even_numbers=[number for numbers in numbers if numbers % 2 == 0] #filter even numbers\n",
    "print(even_numbers)\n",
    "\n",
    "\n",
    "num1= 5\n",
    "factorial=1\n",
    "for num in range(1,num1+1):\n",
    "    factorial *= num\n",
    "    print(\"factorial :\",factorial)\n",
    "\n",
    "\n",
    "\n",
    "\n",
    "\n",
    "\n"
   ]
  },
  {
   "cell_type": "code",
   "execution_count": 1,
   "metadata": {},
   "outputs": [
    {
     "name": "stdout",
     "output_type": "stream",
     "text": [
      "67\n",
      "[12, 34, 56]\n",
      "[1200, 2300, 3400, 4500, 5600, 6700]\n",
      "[12000, 23, 34000, 45, 56000, 67]\n",
      "12 is in number list\n",
      "[4]\n"
     ]
    }
   ],
   "source": [
    "#find max value\n",
    "\n",
    "numbers= [12,23,34,45,56,67]\n",
    "max_number=numbers[0]\n",
    "for number in numbers:\n",
    "    if number > max_number:\n",
    "        max_number = number\n",
    "\n",
    "print(max_number)\n",
    "\n",
    "\n",
    "even_number=[number for number in numbers if number % 2 == 0]\n",
    "print(even_number)\n",
    "\n",
    "\n",
    "transformed_list=[num * 100 for num in numbers] #transform\n",
    "print(transformed_list)\n",
    "\n",
    "new_list=[num * 1000 if num % 2 == 0 else num for num in numbers]\n",
    "print(new_list)\n",
    "\n",
    "\n",
    "#check if items exist in list\n",
    "if 12 in numbers:\n",
    "    print('12 is in number list')\n",
    "\n",
    "list1=[4,59,2,3]\n",
    "list2=[800,1,4,900]\n",
    "common_items=[list for list in list1 if list in list2]\n",
    "print(common_items)\n",
    "\n"
   ]
  },
  {
   "cell_type": "code",
   "execution_count": 36,
   "metadata": {},
   "outputs": [
    {
     "name": "stdout",
     "output_type": "stream",
     "text": [
      "1\n",
      "5\n",
      "9\n",
      "13\n",
      "17\n",
      "21\n",
      "25\n",
      "29\n",
      "33\n",
      "37\n",
      "41\n",
      "45\n",
      "49\n",
      "53\n",
      "57\n",
      "61\n",
      "65\n",
      "69\n",
      "73\n",
      "77\n",
      "81\n",
      "85\n",
      "89\n",
      "93\n",
      "97\n"
     ]
    }
   ],
   "source": [
    "#range\n",
    "range_1_100=range(1,101,4)\n",
    "for i in range_1_100:\n",
    "    print (i)"
   ]
  },
  {
   "cell_type": "code",
   "execution_count": 20,
   "metadata": {},
   "outputs": [
    {
     "name": "stdout",
     "output_type": "stream",
     "text": [
      "1*11= 11\n",
      "1*10= 10\n",
      "1*9= 9\n",
      "1*8= 8\n",
      "1*7= 7\n",
      "1*6= 6\n",
      "1*5= 5\n",
      "1*4= 4\n",
      "1*3= 3\n",
      "1*2= 2\n",
      "1*1= 1\n",
      "\n",
      "2*11= 22\n",
      "2*10= 20\n",
      "2*9= 18\n",
      "2*8= 16\n",
      "2*7= 14\n",
      "2*6= 12\n",
      "2*5= 10\n",
      "2*4= 8\n",
      "2*3= 6\n",
      "2*2= 4\n",
      "\n",
      "3*11= 33\n",
      "3*10= 30\n",
      "3*9= 27\n",
      "3*8= 24\n",
      "3*7= 21\n",
      "3*6= 18\n",
      "3*5= 15\n",
      "3*4= 12\n",
      "3*3= 9\n",
      "\n",
      "4*11= 44\n",
      "4*10= 40\n",
      "4*9= 36\n",
      "4*8= 32\n",
      "4*7= 28\n",
      "4*6= 24\n",
      "4*5= 20\n",
      "4*4= 16\n",
      "\n",
      "5*11= 55\n",
      "5*10= 50\n",
      "5*9= 45\n",
      "5*8= 40\n",
      "5*7= 35\n",
      "5*6= 30\n",
      "5*5= 25\n",
      "\n",
      "6*11= 66\n",
      "6*10= 60\n",
      "6*9= 54\n",
      "6*8= 48\n",
      "6*7= 42\n",
      "6*6= 36\n",
      "\n",
      "7*11= 77\n",
      "7*10= 70\n",
      "7*9= 63\n",
      "7*8= 56\n",
      "7*7= 49\n",
      "\n",
      "8*11= 88\n",
      "8*10= 80\n",
      "8*9= 72\n",
      "8*8= 64\n",
      "\n",
      "9*11= 99\n",
      "9*10= 90\n",
      "9*9= 81\n",
      "\n"
     ]
    }
   ],
   "source": [
    "#multiplication using loop\n",
    "i = 1\n",
    "\n",
    "while i<10:\n",
    "    j =11\n",
    "   \n",
    "   \n",
    "    while  j >=i:\n",
    "        print(f'{i}*{j}= {i*j}')\n",
    "        \n",
    "        j -=1\n",
    "    print()\n",
    "    i +=1"
   ]
  },
  {
   "cell_type": "code",
   "execution_count": null,
   "metadata": {},
   "outputs": [],
   "source": []
  }
 ],
 "metadata": {
  "kernelspec": {
   "display_name": "base",
   "language": "python",
   "name": "python3"
  },
  "language_info": {
   "codemirror_mode": {
    "name": "ipython",
    "version": 3
   },
   "file_extension": ".py",
   "mimetype": "text/x-python",
   "name": "python",
   "nbconvert_exporter": "python",
   "pygments_lexer": "ipython3",
   "version": "3.12.7"
  }
 },
 "nbformat": 4,
 "nbformat_minor": 2
}
