{
 "cells": [
  {
   "cell_type": "markdown",
   "metadata": {},
   "source": [
    "## Pandas\n",
    "- open source data analysis and data manipullaiton library for python\n",
    "- Bilud on top of NumPY, and design for hith performance data handling\n",
    "## Feature\n",
    "- can load any file eg: excel,json,sql,csv\n",
    "- data cleaning: Handling missing value and apply transformations.\n",
    "- data manipulation: filter,group,merge,and pivot data\n",
    "- data aggregration: perform summary statistics\n",
    "- visualization support: support basic visualization and integrate with metabolis\n",
    "## Data Structure\n",
    "- excel in python\n",
    "- series: one-dimensional labeleb array,suitable for single column data\n",
    "-  data frame:\n",
    "- index:\n"
   ]
  },
  {
   "cell_type": "markdown",
   "metadata": {},
   "source": []
  }
 ],
 "metadata": {
  "language_info": {
   "name": "python"
  }
 },
 "nbformat": 4,
 "nbformat_minor": 2
}
