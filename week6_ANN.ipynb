{
 "cells": [
  {
   "cell_type": "markdown",
   "id": "1b85a7bc",
   "metadata": {},
   "source": [
    "### ANN ( A Single Neuron)\n",
    "- Neuron in a neural network is a block of mathematical operations linking the entities.\n",
    "- In an ANN a neuron takes inputs, adds some weight and biases to it, and applies some mathematical function knows as activation function to given the output.\n",
    "- Refers to a biological inspired sub-field of AI modeled after the brain.\n",
    "- Based on biological neural networks that construct ths structure of human brain.\n",
    "- Similar to human brain has neurons interconnected to each other, ANN also has neuron linked \n",
    "\n",
    "## ANN- A single Neuron\n",
    "- Block of mathematical operations lining the entities.\n",
    "- z= w1x1+ w2x2 +b\n",
    "- b= bias\n",
    "- x1,x2= inputs\n",
    "- w1,w2= corresponding weight\n",
    "- f= activate function\n",
    "- y=f(z), y=a/1+e^-z called sigmoid function (output between 0 and 1) -if data is non-liner sigmoid is used\n",
    "\n",
    "- Input- pattern identified(hidden layer)- output layer (input and output layer are fixed):[Interconnected]\n",
    "- Model Training and share output\n",
    "- y^= 1/1+e^-z\n",
    "- Error(E)= (y^-Y)^2/N\n",
    "- To min error derivative is used also called gradient \n",
    "- Gradient Decent: Large number lai sano banauni like value 0 banauni\n",
    "- Y^= sigmoid(z)= (w+sigmoidE/sigmiodW)+ (sigmoid+sigmoidE+sigmoidb-gradient of w)\n",
    "- To train picture matrix is used\n",
    "- In real world x is matrix (y=wx+b)\n",
    "\n"
   ]
  },
  {
   "cell_type": "markdown",
   "id": "bf69cad3",
   "metadata": {},
   "source": [
    "- Hidden layer- pattern identified"
   ]
  },
  {
   "cell_type": "markdown",
   "id": "0aa05933",
   "metadata": {},
   "source": []
  }
 ],
 "metadata": {
  "kernelspec": {
   "display_name": "base",
   "language": "python",
   "name": "python3"
  },
  "language_info": {
   "name": "python",
   "version": "3.12.7"
  }
 },
 "nbformat": 4,
 "nbformat_minor": 5
}
