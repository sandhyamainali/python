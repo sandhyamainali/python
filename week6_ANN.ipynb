{
 "cells": [
  {
   "cell_type": "markdown",
   "id": "1b85a7bc",
   "metadata": {},
   "source": [
    "### ANN ( A Single Neuron)\n",
    "- Neuron in a neural network is a block of mathematical operations linking the entities.\n",
    "- In an ANN a neuron takes inputs, adds some weight and biases to it, and applies some mathematical function knows as activation function to given the output.\n",
    "- Refers to a biological inspired sub-field of AI modeled after the brain.\n",
    "- Based on biological neural networks that construct ths structure of human brain.\n",
    "- Similar to human brain has neurons interconnected to each other, ANN also has neuron linked \n",
    "\n",
    "## ANN- A single Neuron\n",
    "- Block of mathematical operations lining the entities.\n",
    "- z= w1x1+ w2x2 +b\n",
    "- b= bias\n",
    "- x1,x2= inputs\n",
    "- w1,w2= corresponding weight\n",
    "- f= activate function\n",
    "- y=f(z), y=a/1+e^-z called sigmoid function (output between 0 and 1) -if data is non-liner sigmoid is used\n",
    "\n",
    "- Input- pattern identified(hidden layer)- output layer (input and output layer are fixed):[Interconnected]\n",
    "- Model Training and share output\n",
    "- y^= 1/1+e^-z\n",
    "- Error(E)= (y^-Y)^2/N\n",
    "- To min error derivative is used also called gradient \n",
    "- Gradient Decent: Large number lai sano banauni like value 0 banauni\n",
    "- Y^= sigmoid(z)= (w+sigmoidE/sigmiodW)+ (sigmoid+sigmoidE+sigmoidb-gradient of w)\n",
    "- To train picture matrix is used\n",
    "- In real world x is matrix (y=wx+b)\n",
    "\n"
   ]
  },
  {
   "cell_type": "markdown",
   "id": "bf69cad3",
   "metadata": {},
   "source": [
    "- Hidden layer- pattern identified\n",
    "- softmax- is used in last layer\n",
    "- Softmax: convert output to probability distribition"
   ]
  },
  {
   "cell_type": "code",
   "execution_count": 3,
   "id": "78f2fa77",
   "metadata": {},
   "outputs": [
    {
     "name": "stdout",
     "output_type": "stream",
     "text": [
      "Epoch 0, Loss: 86784080016.7783\n",
      "Epoch 1000, Loss: 86784080016.7783\n",
      "Epoch 2000, Loss: 86784080016.7783\n",
      "Epoch 3000, Loss: 86784080016.7783\n",
      "Epoch 4000, Loss: 86784080016.7783\n"
     ]
    },
    {
     "data": {
      "image/png": "[encoded data removed]",
      "text/plain": [
       "<Figure size 640x480 with 1 Axes>"
      ]
     },
     "metadata": {},
     "output_type": "display_data"
    },
    {
     "name": "stdout",
     "output_type": "stream",
     "text": [
      "Predicted prices for test sizes:\n",
      "Size: 1200 sq ft -> Predicted Price: $0.52\n",
      "Size: 1600 sq ft -> Predicted Price: $0.52\n",
      "Size: 2200 sq ft -> Predicted Price: $0.52\n",
      "Size: 2700 sq ft -> Predicted Price: $0.52\n"
     ]
    }
   ],
   "source": [
    "## Deep Learning example\n",
    "import numpy as np\n",
    "import matplotlib.pyplot as plt\n",
    "def sigmoid(x):\n",
    "    return 1 / (1 + np.exp(-x))\n",
    "\n",
    "def sigmoid_derivative(x):\n",
    "    return x * (1 - x)\n",
    "\n",
    "\n",
    "# Let's create some synthetic data for house sizes and corresponding prices\n",
    "np.random.seed(42)\n",
    "# House sizes (in square feet)\n",
    "X = np.array([[500], [1000], [1500], [2000], [2500], [3000]])\n",
    "\n",
    "# Corresponding house prices (in dollars, with some added noise)\n",
    "# For example: Price = size * 150 + noise\n",
    "y = X * 150 + (np.random.randn(*X.shape) * 10000)  # Random noise\n",
    "\n",
    "\n",
    "\n",
    "# Neural Network Parameters\n",
    "input_neurons = 1\n",
    "hidden_neurons = 1\n",
    "output_neurons = 1\n",
    "\n",
    "# Random initialization of weights and biases\n",
    "w1 = np.random.randn(input_neurons, hidden_neurons)  # Weight for input to hidden\n",
    "b1 = np.random.randn(hidden_neurons)  # Bias for hidden layer\n",
    "\n",
    "w2 = np.random.randn(hidden_neurons, output_neurons)  # Weight for hidden to output\n",
    "b2 = np.random.randn(output_neurons)  # Bias for output layer\n",
    "\n",
    "def forward_pass(x):\n",
    "    # Input to hidden layer\n",
    "    z1 = np.dot(x, w1) + b1\n",
    "    a1 = sigmoid(z1)  # Apply sigmoid activation function\n",
    "    \n",
    "    # Hidden to output layer\n",
    "    z2 = np.dot(a1, w2) + b2\n",
    "    output = sigmoid(z2)  # Apply sigmoid activation function\n",
    "    \n",
    "    return output, a1\n",
    "\n",
    "\n",
    "def compute_loss(y_pred, y_true):\n",
    "    return np.mean((y_pred - y_true) ** 2)\n",
    "\n",
    "\n",
    "def backpropagate(x, a1, y_true, y_pred, learning_rate=0.01):\n",
    "    # Output layer error\n",
    "    error_output = y_pred - y_true\n",
    "    d_output = error_output * sigmoid_derivative(y_pred)  # Gradient of output layer\n",
    "    \n",
    "    # Hidden layer error\n",
    "    error_hidden = d_output.dot(w2.T)  # Error propagated back to hidden layer\n",
    "    d_hidden = error_hidden * sigmoid_derivative(a1)  # Gradient of hidden layer\n",
    "\n",
    "     \n",
    "    w2 -= a1.T.dot(d_output) * learning_rate  # Update weight for hidden to output\n",
    "    b2 -= np.sum(d_output, axis=0) * learning_rate  # Update bias for output layer\n",
    "    \n",
    "    w1 -= x.T.dot(d_hidden) * learning_rate  # Update weight for input to hidden\n",
    "    b1 -= np.sum(d_hidden, axis=0) * learning_rate  # Update bias for hidden layer\n",
    "\n",
    "# Training Loop\n",
    "epochs = 5000\n",
    "for epoch in range(epochs):\n",
    "    # Forward pass\n",
    "    output, a1 = forward_pass(X)\n",
    "    \n",
    "    # Compute loss\n",
    "    loss = compute_loss(output, y)\n",
    "    \n",
    "    # Backpropagation and weights update\n",
    "    # backpropagate(X, a1, y, output, learning_rate=0.01)\n",
    "    \n",
    "    # Print the loss every 1000 epochs\n",
    "    if epoch % 1000 == 0:\n",
    "        print(f\"Epoch {epoch}, Loss: {loss:.4f}\")\n",
    "    # Predictions after training\n",
    "output, _ = forward_pass(X)\n",
    "\n",
    "# Plotting the data\n",
    "plt.scatter(X, y, color='blue', label='Actual prices')  # Actual prices (blue dots)\n",
    "plt.plot(X, output, color='red', label='Predicted prices')  # Predicted prices (red line)\n",
    "plt.xlabel('House Size (sq ft)')\n",
    "plt.ylabel('House Price ($)')\n",
    "plt.title('House Price Prediction')\n",
    "plt.legend()\n",
    "plt.show()\n",
    "\n",
    "\n",
    "\n",
    "# Test the model on new data\n",
    "test_sizes = np.array([[1200], [1600], [2200], [2700]])\n",
    "predicted_prices, _ = forward_pass(test_sizes)\n",
    "\n",
    "# Display the predictions\n",
    "print(\"Predicted prices for test sizes:\")\n",
    "for size, price in zip(test_sizes, predicted_prices):\n",
    "    print(f\"Size: {size[0]} sq ft -> Predicted Price: ${price[0]:.2f}\")"
   ]
  },
  {
   "cell_type": "code",
   "execution_count": null,
   "id": "b4405515",
   "metadata": {},
   "outputs": [],
   "source": []
  },
  {
   "cell_type": "markdown",
   "id": "0aa05933",
   "metadata": {},
   "source": []
  }
 ],
 "metadata": {
  "kernelspec": {
   "display_name": "base",
   "language": "python",
   "name": "python3"
  },
  "language_info": {
   "codemirror_mode": {
    "name": "ipython",
    "version": 3
   },
   "file_extension": ".py",
   "mimetype": "text/x-python",
   "name": "python",
   "nbconvert_exporter": "python",
   "pygments_lexer": "ipython3",
   "version": "3.12.7"
  }
 },
 "nbformat": 4,
 "nbformat_minor": 5
}
