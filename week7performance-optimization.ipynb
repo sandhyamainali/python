{
 "cells": [
  {
   "cell_type": "code",
   "execution_count": 15,
   "id": "e0d89400",
   "metadata": {},
   "outputs": [
    {
     "data": {
      "text/plain": [
       "3628800"
      ]
     },
     "execution_count": 15,
     "metadata": {},
     "output_type": "execute_result"
    }
   ],
   "source": [
    "# Find Factorial to given number\n",
    "## Memorization Technique\n",
    "memo_dict={0:1,1:1}\n",
    "def fact(n):\n",
    "    if n in memo_dict:\n",
    "        return memo_dict[n]\n",
    "    else:\n",
    "        memo_dict[n]=  n * fact(n-1)\n",
    "        return memo_dict[n]\n",
    "fact(10)\n",
    "\n"
   ]
  },
  {
   "cell_type": "code",
   "execution_count": null,
   "id": "6f9b0e4b",
   "metadata": {},
   "outputs": [
    {
     "data": {
      "text/plain": [
       "354224848179261915075"
      ]
     },
     "execution_count": 34,
     "metadata": {},
     "output_type": "execute_result"
    }
   ],
   "source": [
    "# def fibonacci function\n",
    "# time complexity(o(2^n))\n",
    "fib_dict={0:1,1:1} ## intilize 0 value as 0 and 1 value as 1\n",
    "def fib_recursive(n):\n",
    "    '''\n",
    "    if n<=1:\n",
    "        return n\n",
    "    return fib_recursive(n-1)+fib_recursive(n-2)\n",
    "fib_100=fib_recursive(100) # we can't use this function to get the larger number's\n",
    "fib_recursive(10)\n",
    "    '''\n",
    "    \n",
    "    if n in fib_dict:\n",
    "        return fib_dict[n]\n",
    "    else:\n",
    "        fib_dict[n]= fib_recursive(n-1)+ fib_recursive(n-2)\n",
    "        return fib_dict[n]\n",
    "# \n",
    "fib_recursive(100)\n"
   ]
  },
  {
   "cell_type": "markdown",
   "id": "d6e29dea",
   "metadata": {},
   "source": [
    "- optimization Technique\n",
    "    - optimize by function memoization (Algorithm Approach)\n",
    "- Data Structure Selection\n",
    "    - Queue: First In First Out (FIFO)\n",
    "- stat ko thau ma que nai use hunxa\n",
    "\n"
   ]
  },
  {
   "cell_type": "markdown",
   "id": "cf6440be",
   "metadata": {},
   "source": [
    "## Dqueue\n",
    "- Always see first value and remove it,"
   ]
  },
  {
   "cell_type": "markdown",
   "id": "43ab2b96",
   "metadata": {},
   "source": [
    "## Concurency and parallelison\n",
    "- can run 8 task in 8core\n",
    "- Thread is use in coding\n",
    "- Multithreading\n",
    "- Threading: yautai core ma multiple task garney"
   ]
  },
  {
   "cell_type": "markdown",
   "id": "7ed3ed79",
   "metadata": {},
   "source": [
    "Global Interpreter log (GIL)\n",
    "- "
   ]
  },
  {
   "cell_type": "code",
   "execution_count": null,
   "id": "90a4059f",
   "metadata": {},
   "outputs": [
    {
     "name": "stdout",
     "output_type": "stream",
     "text": [
      "{'name': 'Ram', 'age': 30}\n"
     ]
    }
   ],
   "source": [
    "person={'name':'Ram'}\n",
    "# yautai memory ma point hunxa...\n",
    "person_1=person # Reference count\n",
    "person_1['age']=30\n",
    "print(person)"
   ]
  },
  {
   "cell_type": "markdown",
   "id": "c85c7c3a",
   "metadata": {},
   "source": [
    "- Multithread is not possible in python,practically because of restcondition\n",
    "- RestCondition: ko ley first ma update garney vaney rw hunxa...yauta process sakey pachi matra arko process run hunxa\n",
    "- block multiple byte code in same time.\n",
    "- Multithreading na chaley rw slow hunxa.."
   ]
  },
  {
   "cell_type": "code",
   "execution_count": null,
   "id": "efc24d60",
   "metadata": {},
   "outputs": [],
   "source": []
  }
 ],
 "metadata": {
  "kernelspec": {
   "display_name": "base",
   "language": "python",
   "name": "python3"
  },
  "language_info": {
   "codemirror_mode": {
    "name": "ipython",
    "version": 3
   },
   "file_extension": ".py",
   "mimetype": "text/x-python",
   "name": "python",
   "nbconvert_exporter": "python",
   "pygments_lexer": "ipython3",
   "version": "3.12.7"
  }
 },
 "nbformat": 4,
 "nbformat_minor": 5
}
