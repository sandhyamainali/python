{
 "cells": [
  {
   "cell_type": "markdown",
   "id": "1b0d2ab9",
   "metadata": {},
   "source": [
    "## File Operation Table\n",
    "- r-read only mode\n",
    "- w- write mode. Create/truncates the files\n",
    "- x- execute creation. Fails if the file exits\n",
    "- a- append mode. Write dara at the end\n",
    "- b- binary mode. Used with rb,wb\n",
    "- t-text mode(default)\n",
    "- +- update mode(read and write)"
   ]
  },
  {
   "cell_type": "code",
   "execution_count": 1,
   "id": "e1ba30f7",
   "metadata": {},
   "outputs": [
    {
     "name": "stdout",
     "output_type": "stream",
     "text": [
      "TXT test file\n",
      "Purpose: Provide example of this file type\n",
      "Document file type: TXT\n",
      "Version: 1.0\n",
      "Remark:\n",
      "\n",
      "Example content:\n",
      "The names \"John Doe\" for males, \"Jane Doe\" or \"Jane Roe\" for females, or \"Jonnie Doe\" and \"Janie Doe\" for children, or just \"Doe\" non-gender-specifically are used as placeholder names for a party whose true identity is unknown or must be withheld in a legal action, case, or discussion. The names are also used to refer to acorpse or hospital patient whose identity is unknown. This practice is widely used in the United States and Canada, but is rarely used in other English-speaking countries including the United Kingdom itself, from where the use of \"John Doe\" in a legal context originates. The names Joe Bloggs or John Smith are used in the UK instead, as well as in Australia and New Zealand.\n",
      "\n",
      "John Doe is sometimes used to refer to a typical male in other contexts as well, in a similar manner to John Q. Public, known in Great Britain as Joe Public, John Smith or Joe Bloggs. For example, the first name listed on a form is often John Doe, along with a fictional address or other fictional information to provide an example of how to fill in the form. The name is also used frequently in popular culture, for example in the Frank Capra film Meet John Doe. John Doe was also the name of a 2002 American television series.\n",
      "\n",
      "Similarly, a child or baby whose identity is unknown may be referred to as Baby Doe. A notorious murder case in Kansas City, Missouri, referred to the baby victim as Precious Doe. Other unidentified female murder victims are Cali Doe and Princess Doe. Additional persons may be called James Doe, Judy Doe, etc. However, to avoid possible confusion, if two anonymous or unknown parties are cited in a specific case or action, the surnames Doe and Roe may be used simultaneously; for example, \"John Doe v. Jane Roe\". If several anonymous parties are referenced, they may simply be labelled John Doe #1, John Doe #2, etc. (the U.S. Operation Delego cited 21 (numbered) \"John Doe\"s) or labelled with other variants of Doe / Roe / Poe / etc. Other early alternatives such as John Stiles and Richard Miles are now rarely used, and Mary Major has been used in some American federal cases.\n",
      "\n",
      "\n",
      "\n",
      "File created by https://www.online-convert.com\n",
      "More example files: https://www.online-convert.com/file-type\n",
      "Text of Example content: Wikipedia (https://en.wikipedia.org/wiki/John_Doe)\n",
      "License: Attribution-ShareAlike 4.0 (https://creativecommons.org/licenses/by-sa/4.0/)\n",
      "\n",
      "Feel free to use and share the file according to the license above.\n"
     ]
    }
   ],
   "source": [
    "with open('data/test.txt', 'r') as text_file:\n",
    "    text_content = text_file.read()\n",
    "print(text_content)\n"
   ]
  },
  {
   "cell_type": "code",
   "execution_count": null,
   "id": "76cb47e8",
   "metadata": {},
   "outputs": [
    {
     "name": "stdout",
     "output_type": "stream",
     "text": [
      "TXT test file\n",
      "Purpose: Provide example of this file type\n",
      "Document file type: TXT\n",
      "Version: 1.0\n",
      "Remark:\n",
      "\n",
      "Example content:\n",
      "The names \"John Doe\" for males, \"Jane Doe\" or \"Jane Roe\" for females, or \"Jonnie Doe\" and \"Janie Doe\" for children, or just \"Doe\" non-gender-specifically are used as placeholder names for a party whose true identity is unknown or must be withheld in a legal action, case, or discussion. The names are also used to refer to acorpse or hospital patient whose identity is unknown. This practice is widely used in the United States and Canada, but is rarely used in other English-speaking countries including the United Kingdom itself, from where the use of \"John Doe\" in a legal context originates. The names Joe Bloggs or John Smith are used in the UK instead, as well as in Australia and New Zealand.\n",
      "\n",
      "John Doe is sometimes used to refer to a typical male in other contexts as well, in a similar manner to John Q. Public, known in Great Britain as Joe Public, John Smith or Joe Bloggs. For example, the first name listed on a form is often John Doe, along with a fictional address or other fictional information to provide an example of how to fill in the form. The name is also used frequently in popular culture, for example in the Frank Capra film Meet John Doe. John Doe was also the name of a 2002 American television series.\n",
      "\n",
      "Similarly, a child or baby whose identity is unknown may be referred to as Baby Doe. A notorious murder case in Kansas City, Missouri, referred to the baby victim as Precious Doe. Other unidentified female murder victims are Cali Doe and Princess Doe. Additional persons may be called James Doe, Judy Doe, etc. However, to avoid possible confusion, if two anonymous or unknown parties are cited in a specific case or action, the surnames Doe and Roe may be used simultaneously; for example, \"John Doe v. Jane Roe\". If several anonymous parties are referenced, they may simply be labelled John Doe #1, John Doe #2, etc. (the U.S. Operation Delego cited 21 (numbered) \"John Doe\"s) or labelled with other variants of Doe / Roe / Poe / etc. Other early alternatives such as John Stiles and Richard Miles are now rarely used, and Mary Major has been used in some American federal cases.\n",
      "\n",
      "\n",
      "TXT test file\n",
      "Purpose: Provide example of this file type\n",
      "Document file type: TXT\n",
      "Version: 1.0\n",
      "Remark:\n",
      "\n",
      "Example content:\n",
      "The names \"John Doe\" for males, \"Jane Doe\" or \"Jane Roe\" for females, or \"Jonnie Doe\" and \"Janie Doe\" for children, or just \"Doe\" non-gender-specifically are used as placeholder names for a party whose true identity is unknown or must be withheld in a legal action, case, or discussion. The names are also used to refer to acorpse or hospital patient whose identity is unknown. This practice is widely used in the United States and Canada, but is rarely used in other English-speaking countries including the United Kingdom itself, from where the use of \"John Doe\" in a legal context originates. The names Joe Bloggs or John Smith are used in the UK instead, as well as in Australia and New Zealand.\n",
      "\n",
      "John Doe is sometimes used to refer to a typical male in other contexts as well, in a similar manner to John Q. Public, known in Great Britain as Joe Public, John Smith or Joe Bloggs. For example, the first name listed on a form is often John Doe, along with a fictional address or other fictional information to provide an example of how to fill in the form. The name is also used frequently in popular culture, for example in the Frank Capra film Meet John Doe. John Doe was also the name of a 2002 American television series.\n",
      "\n",
      "Similarly, a child or baby whose identity is unknown may be referred to as Baby Doe. A notorious murder case in Kansas City, Missouri, referred to the baby victim as Precious Doe. Other unidentified female murder victims are Cali Doe and Princess Doe. Additional persons may be called James Doe, Judy Doe, etc. However, to avoid possible confusion, if two anonymous or unknown parties are cited in a specific case or action, the surnames Doe and Roe may be used simultaneously; for example, \"John Doe v. Jane Roe\". If several anonymous parties are referenced, they may simply be labelled John Doe #1, John Doe #2, etc. (the U.S. Operation Delego cited 21 (numbered) \"John Doe\"s) or labelled with other variants of Doe / Roe / Poe / etc. Other early alternatives such as John Stiles and Richard Miles are now rarely used, and Mary Major has been used in some American federal cases.\n",
      "\n",
      "\n",
      "['TXT test file\\n', 'Purpose: Provide example of this file type\\n', 'Document file type: TXT\\n', 'Version: 1.0\\n', 'Remark:\\n', '\\n', 'Example content:\\n', 'The names \"John Doe\" for males, \"Jane Doe\" or \"Jane Roe\" for females, or \"Jonnie Doe\" and \"Janie Doe\" for children, or just \"Doe\" non-gender-specifically are used as placeholder names for a party whose true identity is unknown or must be withheld in a legal action, case, or discussion. The names are also used to refer to acorpse or hospital patient whose identity is unknown. This practice is widely used in the United States and Canada, but is rarely used in other English-speaking countries including the United Kingdom itself, from where the use of \"John Doe\" in a legal context originates. The names Joe Bloggs or John Smith are used in the UK instead, as well as in Australia and New Zealand.\\n', '\\n', 'John Doe is sometimes used to refer to a typical male in other contexts as well, in a similar manner to John Q. Public, known in Great Britain as Joe Public, John Smith or Joe Bloggs. For example, the first name listed on a form is often John Doe, along with a fictional address or other fictional information to provide an example of how to fill in the form. The name is also used frequently in popular culture, for example in the Frank Capra film Meet John Doe. John Doe was also the name of a 2002 American television series.\\n', '\\n', 'Similarly, a child or baby whose identity is unknown may be referred to as Baby Doe. A notorious murder case in Kansas City, Missouri, referred to the baby victim as Precious Doe. Other unidentified female murder victims are Cali Doe and Princess Doe. Additional persons may be called James Doe, Judy Doe, etc. However, to avoid possible confusion, if two anonymous or unknown parties are cited in a specific case or action, the surnames Doe and Roe may be used simultaneously; for example, \"John Doe v. Jane Roe\". If several anonymous parties are referenced, they may simply be labelled John Doe #1, John Doe #2, etc. (the U.S. Operation Delego cited 21 (numbered) \"John Doe\"s) or labelled with other variants of Doe / Roe / Poe / etc. Other early alternatives such as John Stiles and Richard Miles are now rarely used, and Mary Major has been used in some American federal cases.\\n', '\\n', '\\n']\n"
     ]
    }
   ],
   "source": [
    "#read file\n",
    "with open('data/test.txt','r') as text_file:\n",
    "    line= text_file.readline()\n",
    "    while line: # As long as there is a line\n",
    "        print(line, end='')\n",
    "        line= text_file.readline()\n",
    "#using for loop\n",
    "with open ('data/test.txt','r') as text_file:\n",
    "    for line in text_file:\n",
    "        print(line,end='')\n",
    "#get all lines in a list using readlinesss\n",
    "with open('data/test.txt','r') as text_file:\n",
    "    lines= text_file.readlines()\n",
    "    print(lines)\n",
    "    "
   ]
  },
  {
   "cell_type": "code",
   "execution_count": null,
   "id": "fd59681c",
   "metadata": {},
   "outputs": [],
   "source": [
    "## write whole content at once\n",
    "with open('data/test.txt','w') as new_file:\n",
    "    ## overwite new content in previous data to add data in previous data append is used\n",
    "    new_file.write('Hello World')\n",
    "#write line by line code\n",
    "with open('data/test.txt','w') as new_file:\n",
    "    new_file.writelines(['Hello\\n','World\\n'])\n",
    "with open('data/test.txt','a') as file:\n",
    "    file.write('This should append on test file\\n')"
   ]
  },
  {
   "cell_type": "markdown",
   "id": "43185a2a",
   "metadata": {},
   "source": [
    "- os.mkdir(path):create a directory\n",
    "- os.makedirs(path):Creates intermediate directories\n",
    "- os.path.exists(path):Check if a path exists(file of directory)\n",
    "- os.path.isdir(path): Check if path is a directory\n"
   ]
  },
  {
   "cell_type": "code",
   "execution_count": 43,
   "id": "3610b447",
   "metadata": {},
   "outputs": [
    {
     "name": "stdout",
     "output_type": "stream",
     "text": [
      "Directory Exists\n",
      "It is a directory\n"
     ]
    },
    {
     "ename": "FileNotFoundError",
     "evalue": "[WinError 3] The system cannot find the path specified: 'data'",
     "output_type": "error",
     "traceback": [
      "\u001b[1;31m---------------------------------------------------------------------------\u001b[0m",
      "\u001b[1;31mFileNotFoundError\u001b[0m                         Traceback (most recent call last)",
      "Cell \u001b[1;32mIn[43], line 21\u001b[0m\n\u001b[0;32m     17\u001b[0m     \u001b[38;5;28mprint\u001b[39m(\u001b[38;5;124m\"\u001b[39m\u001b[38;5;124mIt is not directory\u001b[39m\u001b[38;5;124m\"\u001b[39m)\n\u001b[0;32m     20\u001b[0m \u001b[38;5;66;03m# list all contet of directory\u001b[39;00m\n\u001b[1;32m---> 21\u001b[0m contents\u001b[38;5;241m=\u001b[39m os\u001b[38;5;241m.\u001b[39mlistdir(\u001b[38;5;124m'\u001b[39m\u001b[38;5;124mdata\u001b[39m\u001b[38;5;124m'\u001b[39m)\n\u001b[0;32m     22\u001b[0m \u001b[38;5;28mprint\u001b[39m(contents)\n\u001b[0;32m     24\u001b[0m \u001b[38;5;66;03m#remove dir\u001b[39;00m\n\u001b[0;32m     25\u001b[0m \n\u001b[0;32m     26\u001b[0m \n\u001b[0;32m     27\u001b[0m \u001b[38;5;66;03m# os.rmdir('test-dir')\u001b[39;00m\n\u001b[0;32m     28\u001b[0m \n\u001b[0;32m     29\u001b[0m \u001b[38;5;66;03m#check if the directory is readable\u001b[39;00m\n",
      "\u001b[1;31mFileNotFoundError\u001b[0m: [WinError 3] The system cannot find the path specified: 'data'"
     ]
    }
   ],
   "source": [
    "import os\n",
    "#create new directory\n",
    "if not os.path.exists ('test-dir'):\n",
    "    os.mkdir('test-dir')\n",
    "\n",
    "\n",
    "#create nested directories paren folder/sh folder\n",
    "if os.path.exists('test-dir'):\n",
    "    print('Directory Exists')\n",
    "else:\n",
    "    print('Directory doesnot exists')\n",
    "\n",
    "#Identified if it is file or directory\n",
    "if os.path.isdir('test-dir'):\n",
    "    print(\"It is a directory\")\n",
    "else:\n",
    "    print(\"It is not directory\")\n",
    "\n",
    "\n",
    "# list all contet of directory\n",
    "contents= os.listdir('data')\n",
    "print(contents)\n",
    "\n",
    "#remove dir\n",
    "\n",
    "\n",
    "# os.rmdir('test-dir')\n",
    "\n",
    "#check if the directory is readable\n",
    "if os.access('data',os.R_OK):\n",
    "    print(\"Directory is readable\")\n",
    "else:\n",
    "    print(\"Directory is not readable\")\n",
    "\n",
    "if os.access('data',os.W_OK):\n",
    "    print(\"Directory is Writeable\")\n",
    "else:\n",
    "    print(\"Directory is not Writeable\")"
   ]
  },
  {
   "cell_type": "markdown",
   "id": "a8c765d7",
   "metadata": {},
   "source": []
  }
 ],
 "metadata": {
  "kernelspec": {
   "display_name": "base",
   "language": "python",
   "name": "python3"
  },
  "language_info": {
   "codemirror_mode": {
    "name": "ipython",
    "version": 3
   },
   "file_extension": ".py",
   "mimetype": "text/x-python",
   "name": "python",
   "nbconvert_exporter": "python",
   "pygments_lexer": "ipython3",
   "version": "3.12.7"
  }
 },
 "nbformat": 4,
 "nbformat_minor": 5
}
