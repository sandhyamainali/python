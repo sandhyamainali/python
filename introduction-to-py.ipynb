{
 "cells": [
  {
   "cell_type": "markdown",
   "metadata": {},
   "source": [
    "# Primitive Data types\n",
    "\n",
    "\n",
    "- Number\n",
    "    - int\n",
    "    - float\n",
    "    - complex\n",
    "- string\n",
    "- Boolean\n",
    "- None"
   ]
  },
  {
   "cell_type": "markdown",
   "metadata": {},
   "source": []
  },
  {
   "cell_type": "markdown",
   "metadata": {},
   "source": [
    "# Numbers\n",
    "\n"
   ]
  },
  {
   "cell_type": "code",
   "execution_count": 3,
   "metadata": {},
   "outputs": [],
   "source": [
    "# int \n",
    "age = 30\n",
    "# float\n",
    "price= 10.2\n",
    "# complex\n",
    "complex_number = 1 + 2j"
   ]
  },
  {
   "cell_type": "code",
   "execution_count": 8,
   "metadata": {},
   "outputs": [
    {
     "name": "stdout",
     "output_type": "stream",
     "text": [
      "5\n",
      "<class 'int'>\n"
     ]
    }
   ],
   "source": [
    "price = 5 # int\n",
    "print(price)\n",
    "distance = 10.2 #float\n",
    "complex_number = 1 + 2j # complex\n",
    "\n",
    "print(type(price))"
   ]
  },
  {
   "cell_type": "markdown",
   "metadata": {},
   "source": [
    "### Arithematic Operation\n"
   ]
  },
  {
   "cell_type": "code",
   "execution_count": 16,
   "metadata": {},
   "outputs": [
    {
     "name": "stdout",
     "output_type": "stream",
     "text": [
      "29\n",
      "-7\n",
      "198\n",
      "0.6111111111111112\n",
      "0\n",
      "11\n",
      "5559917313492231481\n"
     ]
    }
   ],
   "source": [
    "# add\n",
    "a=11\n",
    "b=18\n",
    "sum_of_ab = a+b\n",
    "print(sum)\n",
    "\n",
    "#sub\n",
    "print(a-b)\n",
    "print(a*b)\n",
    "# division\n",
    "print( a/b)\n",
    "# floor division\n",
    "print(a//b)\n",
    "# modulo (modulus) operator (return the remainder)\n",
    "rem_a_b= a%b\n",
    "print(rem_a_b)\n",
    "\n",
    "# power\n",
    "total_ram_size = a**b\n",
    "print(total_ram_size)\n",
    "\n",
    "\n",
    "\n"
   ]
  },
  {
   "cell_type": "markdown",
   "metadata": {},
   "source": [
    "### String in Python\n",
    "\n",
    "##### Collection of Characters"
   ]
  },
  {
   "cell_type": "code",
   "execution_count": null,
   "metadata": {},
   "outputs": [
    {
     "name": "stdout",
     "output_type": "stream",
     "text": [
      "15\n",
      "Sandhya Mainali\n",
      "S\n",
      "i\n",
      "Sandhya\n",
      "Mainali\n",
      "Sandhya Mainali\n",
      "SANDHYA MAINALI\n",
      "sandhya mainali\n",
      "Sandhya Mainali\n",
      "Sita\n",
      "-1\n",
      "-1\n",
      "-1\n",
      "0\n",
      "['Sandhya', 'Mainali']\n",
      "My name is Sandhya\n",
      "Line 1\n",
      "line 2\n",
      "line3\n",
      "\n",
      "\n"
     ]
    }
   ],
   "source": [
    "name = 'Sandhya Mainali'\n",
    "total_num = len(name)\n",
    "print(total_num)\n",
    "print(name)\n",
    "\n",
    "\n",
    "first= name[0]\n",
    "print(first)\n",
    "last=name[-1]\n",
    "print(last)\n",
    "\n",
    "first_name=name[0:7]\n",
    "last_name=name[8:15]\n",
    "print(first_name)\n",
    "print(last_name)\n",
    "\n",
    "# Concatenation\n",
    "full_name= first_name + ' '+ last_name\n",
    "print(full_name)\n",
    "print(full_name.upper())\n",
    "print(full_name.lower())\n",
    "\n",
    "\n",
    "\n",
    "full_name= f\"{first_name} {last_name}\"\n",
    "print(full_name)\n",
    "\n",
    "\n",
    "name1= 'sita'\n",
    "print(name1.capitalize())\n",
    "\n",
    "#check if string exists in another string\n",
    "find_name=name.find(\"Parbati\") #return -1 if not found \n",
    "print(find_name)\n",
    "print(name.find('Parbati'))# both of them doesn't exist because the value is different\n",
    "\n",
    "\n",
    "find_name=name.find('sandhya')\n",
    "print(find_name)\n",
    "print(name.capitalize().find(\"Sandhya\"))\n",
    "\n",
    "\n",
    "#convert string to list\n",
    "all_chars=name.split()\n",
    "print(all_chars)\n",
    "#remove first and last space\n",
    "print(\" My name is Sandhya\".strip())\n",
    "\n",
    "#python multi line string (para) start with ''' and end with '''\n",
    "para= '''Line 1\n",
    "line 2\n",
    "line 3\n",
    "\n",
    "'''\n",
    "print(para)"
   ]
  },
  {
   "cell_type": "markdown",
   "metadata": {},
   "source": []
  },
  {
   "cell_type": "markdown",
   "metadata": {},
   "source": []
  }
 ],
 "metadata": {
  "kernelspec": {
   "display_name": "base",
   "language": "python",
   "name": "python3"
  },
  "language_info": {
   "codemirror_mode": {
    "name": "ipython",
    "version": 3
   },
   "file_extension": ".py",
   "mimetype": "text/x-python",
   "name": "python",
   "nbconvert_exporter": "python",
   "pygments_lexer": "ipython3",
   "version": "3.12.7"
  }
 },
 "nbformat": 4,
 "nbformat_minor": 2
}
