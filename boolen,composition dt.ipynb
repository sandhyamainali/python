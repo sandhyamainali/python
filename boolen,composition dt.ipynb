{
 "cells": [
  {
   "cell_type": "markdown",
   "metadata": {},
   "source": [
    "### Boolen\n",
    "- True\n",
    "- False\n"
   ]
  },
  {
   "cell_type": "markdown",
   "metadata": {},
   "source": [
    "### None\n",
    "- None Keyword is used for defining a null value (no value at all)\n"
   ]
  },
  {
   "cell_type": "code",
   "execution_count": 1,
   "metadata": {},
   "outputs": [],
   "source": [
    "middle_name = None\n"
   ]
  },
  {
   "cell_type": "markdown",
   "metadata": {},
   "source": [
    "### Composite Data Types"
   ]
  },
  {
   "cell_type": "markdown",
   "metadata": {},
   "source": [
    "## Collection\n",
    "\n",
    "- List\n",
    "- Tuple\n",
    "- Set\n",
    "- Range"
   ]
  },
  {
   "cell_type": "code",
   "execution_count": 21,
   "metadata": {},
   "outputs": [
    {
     "name": "stdout",
     "output_type": "stream",
     "text": [
      "['pizza', 'momo', 'biryani']\n",
      "5\n",
      "['pizza', 'momo', 'biryani', 'chowmein']\n",
      "['pizza', 'noodles', 'momo', 'biryani', 'chowmein']\n",
      "['pizza', 'momo', 'biryani', 'chowmein']\n",
      "['pizza', 'momo', 'biryani']\n",
      "pizza\n",
      "biryani\n",
      "['pizza', 'momo']\n",
      "3\n"
     ]
    }
   ],
   "source": [
    "fav_food=['pizza','momo','biryani']\n",
    "print(fav_food)\n",
    "\n",
    "num= [1,2,3,4,5]\n",
    "length=len(num)\n",
    "print(length)\n",
    "\n",
    "#append (item to add at the end)\n",
    "fav_food.append('chowmein')\n",
    "print(fav_food)\n",
    "#insert (index, item to add at specific position)\n",
    "fav_food.insert(1,'noodles')\n",
    "print(fav_food)\n",
    "\n",
    "#remove (item to remove)\n",
    "fav_food.remove('noodles')\n",
    "print(fav_food)\n",
    "\n",
    "#pop (index of item to remove) (remove last item) \n",
    "fav_food.pop()\n",
    "print(fav_food)\n",
    "\n",
    "\n",
    "#Acessingan item by index\n",
    "print(fav_food[0])\n",
    "print(fav_food[-1])\n",
    "\n",
    "#Slicing    \n",
    "print(fav_food[0:2])\n",
    "\n",
    "print(len(fav_food))"
   ]
  },
  {
   "cell_type": "code",
   "execution_count": null,
   "metadata": {},
   "outputs": [],
   "source": []
  }
 ],
 "metadata": {
  "kernelspec": {
   "display_name": "base",
   "language": "python",
   "name": "python3"
  },
  "language_info": {
   "codemirror_mode": {
    "name": "ipython",
    "version": 3
   },
   "file_extension": ".py",
   "mimetype": "text/x-python",
   "name": "python",
   "nbconvert_exporter": "python",
   "pygments_lexer": "ipython3",
   "version": "3.12.7"
  }
 },
 "nbformat": 4,
 "nbformat_minor": 2
}
