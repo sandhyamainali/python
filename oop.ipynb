{
 "cells": [
  {
   "cell_type": "markdown",
   "id": "a71cf97e",
   "metadata": {},
   "source": [
    "- code reusability\n",
    "- Encapsulation (acess control)- boundary bhitra matra bound garney\n",
    "- Polymorphism(parent and child class)\n",
    "    - can overload same functionin child class.\n",
    "- abstraction (complexity hide from outside world: by using package, don't care how it work but can use package)\n",
    "- can't make interphase package in python\n",
    "- Interface def signature (I)"
   ]
  },
  {
   "cell_type": "markdown",
   "id": "9b0b5c54",
   "metadata": {},
   "source": []
  }
 ],
 "metadata": {
  "language_info": {
   "name": "python"
  }
 },
 "nbformat": 4,
 "nbformat_minor": 5
}
