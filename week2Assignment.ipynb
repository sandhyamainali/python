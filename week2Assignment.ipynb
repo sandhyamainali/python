{
 "cells": [
  {
   "cell_type": "markdown",
   "metadata": {},
   "source": [
    "### **Week 2 Assignment**\n",
    "#### Sandhya Mainali\n",
    "#### Presidential Graduate School\n",
    "#### PRG 303: Python Programming\n",
    "#### Professor Pant\n",
    "#### March 14, 2025"
   ]
  },
  {
   "cell_type": "markdown",
   "metadata": {},
   "source": [
    "## Control Statments, Loop and Function"
   ]
  },
  {
   "cell_type": "markdown",
   "metadata": {},
   "source": [
    "### Section 1: Control-Statment (if-elif-else)\n",
    "- if: It checks the first condition. If it is True, it executes the associated block of code and bypasses the rest of the elif and else blocks.\n",
    "- elif: Short for \"else if,\" the elif statement checks additional conditions if the if or elif conditions are False. There may be multiple elif statements.\n",
    "- else: This else statement is optional and executes a block of code if none of the if or elif conditions are met.\n",
    "\n",
    "\n"
   ]
  },
  {
   "cell_type": "code",
   "execution_count": 13,
   "metadata": {},
   "outputs": [
    {
     "name": "stdout",
     "output_type": "stream",
     "text": [
      "The number is positive\n"
     ]
    }
   ],
   "source": [
    "# Declare value\n",
    "num = 11\n",
    "if num > 0:\n",
    "    print(\"The number is positive\")\n",
    "elif num < 0:\n",
    "    print(\"The number is negative\")\n",
    "else:\n",
    "    print(\"The number is Zero\")"
   ]
  },
  {
   "cell_type": "code",
   "execution_count": 14,
   "metadata": {},
   "outputs": [
    {
     "name": "stdout",
     "output_type": "stream",
     "text": [
      "2000 is leap year\n"
     ]
    }
   ],
   "source": [
    "# Decleare Variable and check leap year\n",
    "year = 2000\n",
    "if (year % 4 == 0 and year % 100 != 0) or (year % 400 ==0):\n",
    "    print(year,'is leap year')\n",
    "else:\n",
    "    print(\"It is not leap year\")"
   ]
  },
  {
   "cell_type": "markdown",
   "metadata": {},
   "source": [
    "### Section 2: Loop (for,while,range)\n",
    "- Python loops are useful tools that allow you to execute a block of code more than once.  I shall describe the fundamentals of range(), while, and for.\n",
    "- Looping through a series of items, such as a list, string, or number sequence, is done with a for loop.  It goes to the next item in the series with each pass through the loop until there are no longer any items.\n",
    "- As long as a certain condition is true, the while loop continues to execute.  A condition is what drives a while loop.  As long as the given condition is true, it keeps carrying out the instructions inside of it.  The loop ceases to run when the condition is false.\n",
    "    - To prevent endless loops, make sure the condition eventually turns out to be False.\n",
    "    - Apply to unknown iterations (e.g., validation of user input).\n",
    "- To generate a series of numbers, loops and the range() method are frequently combined.  It specifies the iteration's start, stop, and step values.\n",
    "\n",
    "\n",
    "\n",
    "\n"
   ]
  },
  {
   "cell_type": "code",
   "execution_count": 15,
   "metadata": {},
   "outputs": [
    {
     "name": "stdout",
     "output_type": "stream",
     "text": [
      "1\n",
      "2\n",
      "3\n",
      "4\n",
      "5\n",
      "6\n",
      "7\n",
      "8\n",
      "9\n",
      "10\n",
      "11\n",
      "12\n",
      "13\n",
      "14\n",
      "15\n",
      "16\n",
      "17\n",
      "18\n",
      "19\n"
     ]
    }
   ],
   "source": [
    "\n",
    "for i in range (1,20):\n",
    "    print(i)"
   ]
  },
  {
   "cell_type": "code",
   "execution_count": 16,
   "metadata": {},
   "outputs": [
    {
     "name": "stdout",
     "output_type": "stream",
     "text": [
      "10\n",
      "20\n",
      "30\n",
      "40\n",
      "50\n"
     ]
    }
   ],
   "source": [
    "# for loop\n",
    "my_list= [10,20,30,40,50]\n",
    "for num in my_list:\n",
    "    print(num)"
   ]
  },
  {
   "cell_type": "code",
   "execution_count": 17,
   "metadata": {},
   "outputs": [
    {
     "name": "stdout",
     "output_type": "stream",
     "text": [
      "2\n",
      "4\n",
      "6\n",
      "8\n",
      "10\n",
      "12\n",
      "14\n",
      "16\n",
      "18\n",
      "20\n"
     ]
    }
   ],
   "source": [
    "#while loop to find even number\n",
    "num = 2\n",
    "while ( num <= 20):\n",
    "    print(num)\n",
    "    num +=2"
   ]
  },
  {
   "cell_type": "markdown",
   "metadata": {},
   "source": []
  },
  {
   "cell_type": "code",
   "execution_count": 18,
   "metadata": {},
   "outputs": [
    {
     "name": "stdout",
     "output_type": "stream",
     "text": [
      "10\n",
      "20\n",
      "Number 20 is found\n"
     ]
    }
   ],
   "source": [
    "# use loop with break to stop\n",
    "numbers = [10,20,30,40,50]\n",
    "for i in numbers:\n",
    "    print(i)\n",
    "    if i == 20:\n",
    "        print(\"Number 20 is found\")\n",
    "        break"
   ]
  },
  {
   "cell_type": "code",
   "execution_count": null,
   "metadata": {},
   "outputs": [
    {
     "name": "stdout",
     "output_type": "stream",
     "text": [
      "1\n",
      "Number is found\n",
      "4\n",
      "5\n",
      "6\n",
      "7\n"
     ]
    }
   ],
   "source": [
    "#loop with continue to skip\n",
    "num = [1,3,4,5,6,7]\n",
    "for i in num:\n",
    " \n",
    "    if i == 3:\n",
    "        print(\"Number 3 is found\")\n",
    "        continue\n",
    "    print(i)"
   ]
  },
  {
   "cell_type": "code",
   "execution_count": 6,
   "metadata": {},
   "outputs": [
    {
     "name": "stdout",
     "output_type": "stream",
     "text": [
      "second highest list is: 30\n"
     ]
    }
   ],
   "source": [
    "# second Highest Number\n",
    "list = [10,20,30,22,50]\n",
    "max_number = max(list)\n",
    "second_highest=max([i for i in list if i != max_number ])\n",
    "print(\"second highest list is:\",second_highest)"
   ]
  },
  {
   "cell_type": "code",
   "execution_count": 7,
   "metadata": {},
   "outputs": [
    {
     "name": "stdout",
     "output_type": "stream",
     "text": [
      "Sorted list: [11, 22, 30, 44, 555]\n"
     ]
    }
   ],
   "source": [
    "#list of number in ascending\n",
    "numbers = [30,22,44,11,555]\n",
    "for i in range(len(numbers)):\n",
    "    min_index= i\n",
    "    for j in range(i+1,len(numbers)):\n",
    "        if numbers[j]< numbers [min_index]:\n",
    "            min_index=j\n",
    "    numbers[i], numbers[min_index] = numbers[min_index], numbers[i]\n",
    "\n",
    "print(\"Sorted list:\", numbers)"
   ]
  },
  {
   "cell_type": "code",
   "execution_count": 10,
   "metadata": {},
   "outputs": [
    {
     "name": "stdout",
     "output_type": "stream",
     "text": [
      "Sorted student names in descending order: [99, 55, 42, 23, 22, 11]\n"
     ]
    }
   ],
   "source": [
    "# list of numbers in descending\n",
    "num=[11,23,42,55,22,99]\n",
    "for i in range(len(num) - 1):\n",
    "    for j in range(len(num) - i - 1):\n",
    "        if num[j] < num[j + 1]:  # Compare for descending order\n",
    "            num[j], num[j + 1] = num[j + 1], num[j]  # Swap if needed\n",
    "\n",
    "print(\"Sorted student names in descending order:\", num)"
   ]
  },
  {
   "cell_type": "markdown",
   "metadata": {},
   "source": [
    "### Section 3: Exception Handling (try-except-finally)\n",
    "- Exception handling in Python is the technique of managing errors or exceptions that can arise during program execution.  It ensures that the program is able to handle unexpected problems without crashing.  With this aim in mind, the `try-except-finally` block is employed:\n",
    "- The code that has the potential to raise an exception is within the `try` block.  Python is going to try to run this block.\n",
    "- The exception logic is in the `except` block.  This block is run when the `try` block throws an exception.  A general handler can be employed, or you can catch specific exception types.\n",
    "- Code that is run regardless of the occurrence of any exception is put inside the finally block. It is usually used for housekeeping activities like releases of resources or closing files.\n",
    "\n",
    "\n"
   ]
  },
  {
   "cell_type": "code",
   "execution_count": 20,
   "metadata": {},
   "outputs": [
    {
     "name": "stdout",
     "output_type": "stream",
     "text": [
      "Error: Division by zero is not accepted\n",
      "Error: Please enter numeric values.\n",
      "Execute Complete\n"
     ]
    }
   ],
   "source": [
    "# ZeroDivisionError Handling\n",
    "def numbers(num1, num2):\n",
    "    try:\n",
    "        result = num1 / num2\n",
    "        return result\n",
    "    except ZeroDivisionError:\n",
    "        print(\"Error: Division by zero is not accepted\")\n",
    "\n",
    "# Calling function\n",
    "numbers(40, 0)\n",
    "\n",
    "# ValueError Handling\n",
    "def num():\n",
    "    try:\n",
    "        num1 = float(input(\"Enter first number: \"))\n",
    "        num2 = float(input(\"Enter second number: \"))\n",
    "        result = num1 / num2\n",
    "        return result\n",
    "    except ZeroDivisionError:\n",
    "        print(\"Error: Division by zero is not accepted\")\n",
    "    except ValueError:\n",
    "        print(\"Error: Please enter numeric values.\")\n",
    "    finally:\n",
    "        print(\"Execute Complete\")\n",
    "\n",
    "# Calling function\n",
    "num()\n"
   ]
  },
  {
   "cell_type": "markdown",
   "metadata": {},
   "source": [
    "### Section 4: Function\n",
    "- A Python function is reusable code written to carry out some specific action. It makes the code structured, easy to comprehend, and less redundant.\n",
    "- The def keyword, function name, and parenthesis are used to declare functions.\n",
    "- Parameters in parentheses can be used to pass values into a function.\n",
    "- The return statement may be used to get a function's value.\n",
    "- We can call any function with any necessary arguments to run it.\n",
    "\n"
   ]
  },
  {
   "cell_type": "code",
   "execution_count": null,
   "metadata": {},
   "outputs": [
    {
     "name": "stdout",
     "output_type": "stream",
     "text": [
      "Area of rectangle is: 33\n",
      "2 is a prime number\n",
      "factorial of 5 is: 120\n",
      "Hello Sita,Welcome\n",
      "Hello Guest,Welcome\n",
      "Number of vowels: 1\n"
     ]
    }
   ],
   "source": [
    "# calculate area of rectangle\n",
    "def calculate_area(length,width):\n",
    "    area_of_rectangle= length * width\n",
    "    return area_of_rectangle\n",
    "print(\"Area of rectangle is:\",calculate_area(11,3))\n",
    "\n",
    "# check number is prime\n",
    "\n",
    "def is_prime(n):\n",
    "    if n < 2:\n",
    "        return False  # Prime numbers are greater than 1\n",
    "    for i in range(2, int(n ** 0.5) + 1):  # Loop from 2 to sqrt(n)\n",
    "        if n % i == 0:\n",
    "            return False  # Found a divisor, not prime\n",
    "    return True  # Prime number\n",
    "\n",
    "\n",
    "num = int(input(\"Enter a number: \"))\n",
    "if is_prime(num):\n",
    "    print(num, \"is a prime number\")\n",
    "else:\n",
    "    print(num, \"is not a prime number\")\n",
    "\n",
    "# factorial\n",
    "def factorial(n):\n",
    "    if n == 0 or n==1:\n",
    "        return 1\n",
    "    return n* factorial (n-1)\n",
    "print('factorial of 5 is:',factorial(5))\n",
    "\n",
    "# print greet\n",
    "\n",
    "def greet(name = \"Guest\"):\n",
    "    if name:\n",
    "        print(f\"Hello {name},Welcome\")\n",
    "    else:\n",
    "        print(\"Hello, Guest Welcome\")\n",
    "greet('Sita')\n",
    "greet()\n",
    "    \n",
    "# vowel letter\n",
    "def count_vowels(string):\n",
    "    vowels = \"aeiouAEIOU\"  # Define vowels (both uppercase and lowercase)\n",
    "    count = sum(1 for char in string if char in vowels)  # Count vowels using list comprehension\n",
    "    return count  # Return the total count of vowels\n",
    "\n",
    "\n",
    "text = input(\"Enter a string: \")\n",
    "print(\"Number of vowels:\", count_vowels(text))\n",
    "\n",
    "\n"
   ]
  },
  {
   "cell_type": "markdown",
   "metadata": {},
   "source": [
    "### Lambda Function\n",
    "- Python lambdas are anonymous functions with one expression and any number of arguments. It is usually used for one-time work where it is not required to write the complete function and it is declared using the keyword lambda.\n",
    "- Lambda functions are not named, so they're often referred to as \"anonymous functions.\"\n",
    "- They have one expression that is automatically evaluated and returned.\n",
    "- They are usually employed for sorting or mapping or where one requires a simple function for short term, like inside another function.\n",
    "- Lambda functions are frequently used for fast, one-line solutions with operations like map(), filter(), or sorted(). \n",
    "\n",
    "\n"
   ]
  },
  {
   "cell_type": "code",
   "execution_count": 62,
   "metadata": {},
   "outputs": [
    {
     "name": "stdout",
     "output_type": "stream",
     "text": [
      "Square Number of 4 is: 16\n",
      "Adding two value 33\n",
      "Maximum Value is: 23\n"
     ]
    }
   ],
   "source": [
    "# find square of numbers\n",
    "square= lambda x: x**2\n",
    "print(\"Square Number of 4 is:\",square(4))\n",
    "\n",
    "#adding two numbera\n",
    "add= lambda n1,n2: n1+ n2\n",
    "print(\"Adding two value\",add(11,22))\n",
    "#maximum number\n",
    "maximum= lambda x,y: x if x>y else y\n",
    "print(\"Maximum Value is:\",maximum(11,23))"
   ]
  },
  {
   "cell_type": "code",
   "execution_count": 80,
   "metadata": {},
   "outputs": [
    {
     "name": "stdout",
     "output_type": "stream",
     "text": [
      "[1, 4, 9, 16, 25]\n",
      "[2, 4, 6]\n"
     ]
    }
   ],
   "source": [
    "del list\n",
    "# map function\n",
    "numbers=[1,2,3,4,5]\n",
    "sqrt_num=list(map(lambda x: x**2,numbers))\n",
    "print(sqrt_num)\n",
    "\n",
    "#filter to find even number\n",
    "n = [1, 2, 3, 4, 5, 6]\n",
    "even = list(filter(lambda x: x % 2 == 0, n))\n",
    "print((even))  \n",
    "\n"
   ]
  },
  {
   "cell_type": "markdown",
   "metadata": {},
   "source": []
  }
 ],
 "metadata": {
  "kernelspec": {
   "display_name": "base",
   "language": "python",
   "name": "python3"
  },
  "language_info": {
   "codemirror_mode": {
    "name": "ipython",
    "version": 3
   },
   "file_extension": ".py",
   "mimetype": "text/x-python",
   "name": "python",
   "nbconvert_exporter": "python",
   "pygments_lexer": "ipython3",
   "version": "3.12.7"
  }
 },
 "nbformat": 4,
 "nbformat_minor": 2
}
