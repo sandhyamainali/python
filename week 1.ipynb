{
 "cells": [
  {
   "cell_type": "markdown",
   "metadata": {},
   "source": [
    " # **Week 1 Assignment**\n",
    " ##### Sandhya Mainali\n",
    " ##### Presidential Graduate School\n",
    " ##### PRG 330: Python Programming\n",
    " ##### Professor Pant\n",
    " ##### March 7, 2025"
   ]
  },
  {
   "cell_type": "markdown",
   "metadata": {},
   "source": [
    "## Section 1: Number\n"
   ]
  },
  {
   "cell_type": "markdown",
   "metadata": {},
   "source": [
    "- Number Data Types\n",
    "    - integer (int): The int data type represents whole numbers which include positive and negative values as well as zero value without decimal points.\n",
    "    - float: Float represents real numbers either through decimal points or scientific notation.\n",
    "    - complex: A complex number consists of two parts which are real and imaginary [1+2j] (W3Schools.com, n.d.-d) ."
   ]
  },
  {
   "cell_type": "markdown",
   "metadata": {},
   "source": [
    "### Qn.1 Answer"
   ]
  },
  {
   "cell_type": "code",
   "execution_count": 7,
   "metadata": {},
   "outputs": [
    {
     "name": "stdout",
     "output_type": "stream",
     "text": [
      " The Sum of Vlaue is:  24\n",
      " The Difference of Vlaue is:  -2\n",
      " The Product of Vlaue is:  143\n",
      " The Floor Division of Vlaue is:  0\n",
      " The Modulus of Vlaue is:  11\n",
      " The Exponential of Vlaue is:  34522712143931\n"
     ]
    }
   ],
   "source": [
    "a = 11\n",
    "b = 13\n",
    "sum_of_values = a + b\n",
    "print( \" The Sum of Vlaue is: \" , sum_of_values)\n",
    "\n",
    "difference_of_values = a - b\n",
    "print( \" The Difference of Vlaue is: \" , difference_of_values)\n",
    "\n",
    "product_of_values = a * b\n",
    "print( \" The Product of Vlaue is: \" , product_of_values)\n",
    "\n",
    "\n",
    "floor_division_of_values = a // b\n",
    "print( \" The Floor Division of Vlaue is: \" , floor_division_of_values)\n",
    "\n",
    "modulus_of_values = a % b\n",
    "print( \" The Modulus of Vlaue is: \" , modulus_of_values)\n",
    "\n",
    "exponential_of_values = a ** b\n",
    "print( \" The Exponential of Vlaue is: \" , exponential_of_values)\n",
    "\n"
   ]
  },
  {
   "cell_type": "markdown",
   "metadata": {},
   "source": [
    "### Qn.2 Answer"
   ]
  },
  {
   "cell_type": "code",
   "execution_count": 9,
   "metadata": {},
   "outputs": [
    {
     "name": "stdout",
     "output_type": "stream",
     "text": [
      "The float value is: 11.1\n",
      "<class 'str'>\n"
     ]
    }
   ],
   "source": [
    "x = 11.1\n",
    "\n",
    "# converting float to string\n",
    "str1 = str(x)\n",
    "print(\"The float value is:\", str1)\n",
    "print(type(str1))"
   ]
  },
  {
   "cell_type": "markdown",
   "metadata": {},
   "source": [
    "## Section2: String\n"
   ]
  },
  {
   "cell_type": "markdown",
   "metadata": {},
   "source": [
    "- String \n",
    "    - Declaring String: A string consists of a grouped series of characters that remain between quotation marks.\n",
    "    - Concentation: String elements can connect using the (+) operator in programming.\n",
    "    - Indexing: Through indexing values users can access character strings in the program.\n",
    "    - Slicing: The selected segment of text can be obtained through [start : end] syntax (GeeksforGeeks, 2024).\n",
    "   "
   ]
  },
  {
   "cell_type": "markdown",
   "metadata": {},
   "source": [
    "### Qn.3 Answer"
   ]
  },
  {
   "cell_type": "code",
   "execution_count": null,
   "metadata": {},
   "outputs": [
    {
     "name": "stdout",
     "output_type": "stream",
     "text": [
      "First Character is: S\n",
      "Last Character is: i\n",
      "Full Name Sandhya Mainali\n",
      "The length of full_name is: 15\n"
     ]
    }
   ],
   "source": [
    "first_name= \"Sandhya\"\n",
    "last_name = \"Mainali\"\n",
    "full_name= first_name + \" \" + last_name\n",
    "first_name,last_name= full_name.split()\n",
    "\n",
    "first_Character = first_name[0]\n",
    "last_character = last_name[-1]\n",
    "\n",
    "print(\"First Character is:\",first_Character)\n",
    "print(\"Last Character is:\",last_character)\n",
    "print(\"Full Name\",first_name,last_name)\n",
    "\n",
    "print(\"The length of full_name is:\",len(full_name))"
   ]
  },
  {
   "cell_type": "markdown",
   "metadata": {},
   "source": [
    "### Qn.4 Answer\n"
   ]
  },
  {
   "cell_type": "code",
   "execution_count": 17,
   "metadata": {},
   "outputs": [
    {
     "name": "stdout",
     "output_type": "stream",
     "text": [
      "Sandhya  Mainali\n"
     ]
    }
   ],
   "source": [
    "# concentation of name\n",
    "first_name= \"Sandhya\"\n",
    "last_name = \"Mainali\"\n",
    "full_name= first_name + \"  \" + last_name\n",
    "print(full_name)"
   ]
  },
  {
   "cell_type": "markdown",
   "metadata": {},
   "source": [
    "## Section 3: Boolean and None\n",
    "### Boolean and None\n",
    "- Bool is a built-in data type that stores two values i.e True or False. \n",
    "- Boolean is used in conditional statment and result of comparison\n",
    "- None is falsy, that is, it becomes False in a boolean context (W3Schools.com, n.d.-f) "
   ]
  },
  {
   "cell_type": "markdown",
   "metadata": {},
   "source": [
    "### Qn. 6 Answer"
   ]
  },
  {
   "cell_type": "code",
   "execution_count": 19,
   "metadata": {},
   "outputs": [
    {
     "name": "stdout",
     "output_type": "stream",
     "text": [
      "False\n",
      "True\n",
      "False\n"
     ]
    }
   ],
   "source": [
    "x = True\n",
    "y = False\n",
    "\n",
    "# find X and Y\n",
    "print(x and y)\n",
    "print( x or y)\n",
    "print (not x)"
   ]
  },
  {
   "cell_type": "markdown",
   "metadata": {},
   "source": [
    "### Qn. 7 Answer"
   ]
  },
  {
   "cell_type": "code",
   "execution_count": 20,
   "metadata": {},
   "outputs": [
    {
     "name": "stdout",
     "output_type": "stream",
     "text": [
      "<class 'NoneType'>\n"
     ]
    }
   ],
   "source": [
    "z = None\n",
    "print(type(z))"
   ]
  },
  {
   "cell_type": "markdown",
   "metadata": {},
   "source": [
    "# Section 4 Listing\n",
    "- List is the collection of order items.\n",
    "- Lists are mutable i.e we can add,remove,slice,modify value (W3Schools.com, n.d.).\n",
    "\n"
   ]
  },
  {
   "cell_type": "markdown",
   "metadata": {},
   "source": [
    "### Qn.8 Answer"
   ]
  },
  {
   "cell_type": "code",
   "execution_count": 36,
   "metadata": {},
   "outputs": [
    {
     "name": "stdout",
     "output_type": "stream",
     "text": [
      "First Element of the list of numbers is: 1\n",
      "Last Element of the list of numbers is: 77\n",
      "Length of the list of numbers is: 6\n",
      "Sublist of the list of numbers: [1, 11, 14, 30, 50, 77]\n",
      "Appending the value in list of numbers: [1, 11, 14, 30, 50, 77, 100]\n",
      "Removing the value in list of numbers: [1, 14, 30, 50, 77, 100]\n",
      "Inserting the value in list of numbers: [1, 101, 14, 30, 50, 77, 100]\n"
     ]
    }
   ],
   "source": [
    "list_of_numbers= [1,11,14,30,50,77]\n",
    "print(\"First Element of the list of numbers is:\",list_of_numbers [0])\n",
    "print(\"Last Element of the list of numbers is:\",list_of_numbers [-1])\n",
    "print(\"Length of the list of numbers is:\",len(list_of_numbers))\n",
    "# Extracting a sub list \n",
    "sub_list = list_of_numbers[0:6]\n",
    "print(\"Sublist of the list of numbers:\",sub_list)\n",
    " # append \n",
    "list_of_numbers.append(100)\n",
    "print(\"Appending the value in list of numbers:\",list_of_numbers)\n",
    "\n",
    "list_of_numbers.remove(11)\n",
    "print(\"Removing the value in list of numbers:\",list_of_numbers)\n",
    "\n",
    "# add 101 at 1st index\n",
    "list_of_numbers.insert(1,101)\n",
    "print(\"Inserting the value in list of numbers:\",list_of_numbers)\n",
    "\n"
   ]
  },
  {
   "cell_type": "markdown",
   "metadata": {},
   "source": [
    "# Section 5: Tuple\n",
    "- Tuple are immutable i.e. we cannot change value once the value is declared.\n",
    "- Tuples are used to store groups of information, typically if you want to guarantee that the information won't change (W3Schools.com, n.d.-c).\n"
   ]
  },
  {
   "cell_type": "markdown",
   "metadata": {},
   "source": [
    "### Qn.9 Answer"
   ]
  },
  {
   "cell_type": "code",
   "execution_count": 38,
   "metadata": {},
   "outputs": [
    {
     "name": "stdout",
     "output_type": "stream",
     "text": [
      "Retriving the third element of the tuple: 5\n",
      "Extracting Subtuple:  (3, 5, 6)\n",
      "Length of the tuple: 6\n"
     ]
    }
   ],
   "source": [
    "tuple= (1,3,5,6,9,10)\n",
    "# retrive third element\n",
    "print(\"Retriving the third element of the tuple:\",tuple[2])\n",
    "\n",
    "print(\"Extracting Subtuple: \",tuple[1:4])\n",
    "\n",
    "print(\"Length of the tuple:\",len(tuple))"
   ]
  },
  {
   "cell_type": "markdown",
   "metadata": {},
   "source": [
    "# Section 6: Set\n",
    "- Set is a unique collection of items.\n",
    "- Sets differ from lists or tuples in the following ways\n",
    "    - Unordered: The elements of a set do not have any order, and thus cannot be accessed using an index.\n",
    "    - Unique: Eliminates duplicates automatically, i.e., an element cannot occur more than once (W3Schools.com, n.d.-e)."
   ]
  },
  {
   "cell_type": "markdown",
   "metadata": {},
   "source": [
    "### Qn.10"
   ]
  },
  {
   "cell_type": "code",
   "execution_count": 44,
   "metadata": {},
   "outputs": [
    {
     "name": "stdout",
     "output_type": "stream",
     "text": [
      "The Union of Sets: {2, 70, 40, 10, 80, 50, 20, 25, 60, 30}\n",
      "Intersection of sets: {50}\n",
      "Adding the value in set1: {2, 50, 20, 7, 25, 10, 30}\n",
      "Removing the value in set1: {50, 20, 7, 25, 10, 30}\n"
     ]
    }
   ],
   "source": [
    "set1={10,20,25,30,50,2}\n",
    "set2={40,50,60,70,80}\n",
    "union_of_sets= set1.union(set2)\n",
    "print(\"The Union of Sets:\",union_of_sets)\n",
    "print(\"Intersection of sets:\",set1.intersection(set2))\n",
    "\n",
    "set1.add(7)\n",
    "print(\"Adding the value in set1:\",set1)\n",
    "set1.remove(2)\n",
    "print(\"Removing the value in set1:\",set1)"
   ]
  },
  {
   "cell_type": "markdown",
   "metadata": {},
   "source": [
    "# Section 7: Range\n",
    "- range() function is used to generate a list of numbers\n",
    "- It is most commonly used in for loops to iterate over a list of numbers\n",
    "- Range (Start, stop, step)\n",
    "    - start (optional): The initial value of the first number of the sequence (default is 0).\n",
    "    - stop: The stop value, i.e., the value to stop at but not include.\n",
    "    - step (optional):  The distance between consecutive numbers in the sequence (default is 1) (Python Range() Function, n.d.)"
   ]
  },
  {
   "cell_type": "markdown",
   "metadata": {},
   "source": [
    "### Qn.11"
   ]
  },
  {
   "cell_type": "code",
   "execution_count": 47,
   "metadata": {},
   "outputs": [
    {
     "name": "stdout",
     "output_type": "stream",
     "text": [
      "Range of numbers: range(5, 20, 3)\n",
      "Converting to list: [5, 8, 11, 14, 17]\n"
     ]
    }
   ],
   "source": [
    "numbers= range (5,20,3)\n",
    "print(\"Range of numbers:\",numbers)\n",
    "#convert to list\n",
    "list_of_numbers= list(numbers)\n",
    "print(\"Converting to list:\",list_of_numbers)"
   ]
  },
  {
   "cell_type": "markdown",
   "metadata": {},
   "source": [
    "# Section 8: Dictionary (Dict)\n",
    "- Dictionary is the collection of key and value pairs.\n",
    "- Each key is distinct, and it is associated with a value.\n",
    "- Dictionaries are mutable, i.e., you can change their content (insert, delete, or update key-value pairs) after they have been instantiated (W3Schools.com, n.d.-b).\n",
    "\n"
   ]
  },
  {
   "cell_type": "markdown",
   "metadata": {},
   "source": [
    "### Qn.12 Answer"
   ]
  },
  {
   "cell_type": "code",
   "execution_count": null,
   "metadata": {},
   "outputs": [
    {
     "name": "stdout",
     "output_type": "stream",
     "text": [
      "Retrive name sita\n",
      "Students Information: {'name': 'sita', 'age': 20, 'gender': 'female', 'address': 'Kathmandu', 'mobile_number': 987654321, 'course': 'python'}\n",
      "\n",
      " Adding grade in students information:\n",
      "name: sita\n",
      "age: 20\n",
      "gender: female\n",
      "address: Kathmandu\n",
      "mobile_number: 987654321\n",
      "course: python\n",
      "grade: A\n",
      "\n",
      " Deleting age in students information:\n",
      "{'name': 'sita', 'gender': 'female', 'address': 'Kathmandu', 'mobile_number': 987654321, 'course': 'python', 'grade': 'A'}\n",
      "\n",
      " updating the values of course\n",
      "name: sita\n",
      "gender: female\n",
      "address: Kathmandu\n",
      "mobile_number: 987654321\n",
      "course: Mathematics\n",
      "grade: A\n"
     ]
    }
   ],
   "source": [
    "students_information={\n",
    "    'name':'sita',\n",
    "    'age':20,\n",
    "    'gender':'female',\n",
    "    'address':'Kathmandu',\n",
    "    'mobile_number':987654321,\n",
    "    'course':'python',\n",
    "}\n",
    "print(\"Retrive name : \", students_information['name'])\n",
    "print(\"Students Information:\",students_information)\n",
    "\n",
    "students_information['grade']='A'\n",
    "\n",
    "print('\\n Adding grade in students information:')\n",
    "for key, value in students_information.items():\n",
    "    print(key + ':', value)\n",
    "\n",
    "    #del key of age\n",
    "\n",
    "del students_information['age']\n",
    "print('\\n Deleting age in students information:')\n",
    "print(students_information)\n",
    "\n",
    "#update course\n",
    "students_information['course']= 'Mathematics'\n",
    "print('\\n updating the values of course')\n",
    "for key, value in students_information.items():\n",
    "    print(key + ':', value)\n",
    "\n",
    "    \n",
    "\n",
    "\n"
   ]
  },
  {
   "cell_type": "markdown",
   "metadata": {},
   "source": []
  },
  {
   "cell_type": "markdown",
   "metadata": {},
   "source": [
    "### References \n",
    "- W3Schools.com. (n.d.). https://www.w3schools.com/python/python_lists.asp\n",
    "- GeeksforGeeks. (2024). Python String. GeeksforGeeks. https://www.geeksforgeeks.org/python-string/\n",
    "- Python range() Function. (n.d.). https://www.programiz.com/python-programming/methods/built-in/range\n",
    "- W3Schools.com. (n.d.-b). https://www.w3schools.com/python/python_dictionaries.asp\n",
    "- W3Schools.com. (n.d.-c). https://www.w3schools.com/python/python_tuples.asp\n",
    "- W3Schools.com. (n.d.-d). https://www.w3schools.com/python/python_numbers.asp\n",
    "- W3Schools.com. (n.d.-e). https://www.w3schools.com/python/python_sets.asp\n",
    "- W3Schools.com. (n.d.-f). https://www.w3schools.com/python/python_booleans.asp\n"
   ]
  },
  {
   "cell_type": "markdown",
   "metadata": {},
   "source": []
  }
 ],
 "metadata": {
  "kernelspec": {
   "display_name": "base",
   "language": "python",
   "name": "python3"
  },
  "language_info": {
   "codemirror_mode": {
    "name": "ipython",
    "version": 3
   },
   "file_extension": ".py",
   "mimetype": "text/x-python",
   "name": "python",
   "nbconvert_exporter": "python",
   "pygments_lexer": "ipython3",
   "version": "3.12.7"
  }
 },
 "nbformat": 4,
 "nbformat_minor": 2
}
