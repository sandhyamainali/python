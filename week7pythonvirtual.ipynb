{
 "cells": [
  {
   "cell_type": "markdown",
   "id": "c482f1c5",
   "metadata": {},
   "source": [
    "- docker: can make isolated environment \n",
    "- Virtual Environment: can make version we want.\n",
    "- We can set up our oen libraries and dependencied without affecting the default system python.\n",
    " "
   ]
  },
  {
   "cell_type": "markdown",
   "id": "a0fa4ac3",
   "metadata": {},
   "source": [
    "# Why use Virtual Environment?\n",
    "- Prevent Version Conflicts: Different projects may require different version of the same library.\n",
    "- Isolation:\n",
    "- Collaboration:\n"
   ]
  },
  {
   "cell_type": "markdown",
   "id": "036a85d3",
   "metadata": {},
   "source": [
    "- to switch version: conda create --name data-science python=3.10: in anaconda...base terminal\n",
    "- conda env export > data-science.yml : export setting file"
   ]
  },
  {
   "cell_type": "markdown",
   "id": "184e83b9",
   "metadata": {},
   "source": [
    "Best practice for using Virtual Environment\n",
    "- "
   ]
  },
  {
   "cell_type": "markdown",
   "id": "e935111b",
   "metadata": {},
   "source": [
    "## Python limitation\n",
    "- python doesn't support multi threading\n",
    "- Interpreted programming language\n",
    "- Global Interpreter log: yauta obj lai duita ley process garna khojda interpreted garxa...\n"
   ]
  },
  {
   "cell_type": "markdown",
   "id": "c7fed573",
   "metadata": {},
   "source": []
  },
  {
   "cell_type": "markdown",
   "id": "f580eaa2",
   "metadata": {},
   "source": [
    "## Python Performance Tunning and optimization\n",
    "- challenges:\n",
    "    - data type run in dynamic nature\n",
    "    - Global Interpreter Lock (GIL): Object lai duita thread ma reflect garna bajauxa....might be slow\n",
    "    - dynamic garnu pareyo vani certain memory pachi allocate garnu parxa\n",
    "- Key Area of Optimization\n",
    "    - Algorithmic Optimization\n",
    "    - Data Structuring Selection\n",
    "    - Code Profiling and Analysis\n",
    "    - Memory Management\n",
    "    - Concurrent and Parallelism\n",
    "    - Using Built-in Libraries\n",
    "\n",
    "\n"
   ]
  },
  {
   "cell_type": "markdown",
   "id": "5e4b7f83",
   "metadata": {},
   "source": []
  }
 ],
 "metadata": {
  "kernelspec": {
   "display_name": "base",
   "language": "python",
   "name": "python3"
  },
  "language_info": {
   "name": "python",
   "version": "3.12.7"
  }
 },
 "nbformat": 4,
 "nbformat_minor": 5
}
