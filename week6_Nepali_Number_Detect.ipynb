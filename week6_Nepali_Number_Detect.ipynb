{
 "cells": [
  {
   "cell_type": "markdown",
   "id": "d66e3b4e",
   "metadata": {},
   "source": [
    "- Each layer input is given to hidden layer \n",
    "- One neuron is fully connected i.e one input neuron os connected to each layer of hidden layer one by one.\n",
    "- probability high jasko hunxa tei nai output hunxa. (output lies betweeb 0 and 1).\n",
    "- Input is according to pixel of image while training for example(28*28)\n"
   ]
  },
  {
   "cell_type": "markdown",
   "id": "038d7b32",
   "metadata": {},
   "source": [
    "## Learning Rate\n",
    "- machine learning ley katye xito learn garxa\n",
    "- Learn according to phase.\n",
    "- "
   ]
  }
 ],
 "metadata": {
  "kernelspec": {
   "display_name": "base",
   "language": "python",
   "name": "python3"
  },
  "language_info": {
   "name": "python",
   "version": "3.12.7"
  }
 },
 "nbformat": 4,
 "nbformat_minor": 5
}
