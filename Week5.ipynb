{
 "cells": [
  {
   "cell_type": "markdown",
   "metadata": {},
   "source": [
    "### Introduction to Machine Learning\n",
    "- AI is the technology that enables computer and machine to simulate human learning, comprehensive, problem solving, decision making. creativity and autonomy.\n",
    "- Algorithm uncover hidden pattern with datasets,allowing them to make prediction on new similar data without exploitation programming for each task\n",
    "\n",
    "### Types of Machine Learning\n",
    "- Supervised Machine Learning\n",
    "    - Give input and output  to computer while training.\n",
    "    - Give label for each things like cat,dog, human (object detection)\n",
    "    - Regression: Continuous values prediction (used in stock marketing,house class forcasting)\n",
    "    - Classification: Descript value i.e (0,1) prediction (yes/No) output - fixed class(imge detction,...)\n",
    "- Unsupervised Machine Learning\n",
    "    - Have Inuput data while training\n",
    "    - Unlabel\n",
    "    - clustuting data\n",
    "    - Dimensionality Reduction\n"
   ]
  },
  {
   "cell_type": "markdown",
   "metadata": {},
   "source": [
    "### Regression- Statistical Approach\n",
    "- It is a statistical method used in economic, financial,investing, and other discipline\n",
    "- "
   ]
  },
  {
   "cell_type": "markdown",
   "metadata": {},
   "source": [
    "## Classification\n",
    "- Classificationis supervised machine learning method where the model tries to predict the correct label of a given input data.\\\n",
    "- In classification, the model is fully trained using the training data, and then it is evealuate test data before being used to perform predict on new unseen data.\n",
    "- Object Identifies \n",
    "- Lazy Learner and Eagre Learners\n",
    "    - Eager Learner\n",
    "        -support vector machine: lowe dimension ko data lai higher dimention ma lagxa\n",
    "    - Decision Tree\n",
    "        - \n",
    "    - Naive Bayes\n",
    "        - \n",
    "    - Artificial Neural Networks \n",
    "        - \n",
    "        "
   ]
  },
  {
   "cell_type": "markdown",
   "metadata": {},
   "source": [
    "## Naive Bayes Classification\n",
    "- It is supervised ML algorithm based on Bayes Theorem\n",
    "- p (A/B)=P(B/A).p(A)/P(B)\n",
    "p(B)- total popn\n",
    "p(A)- total observation\n",
    "- updates believe system according to input data\n",
    "- scam detection\n",
    "- Yes/ No ans of given data"
   ]
  },
  {
   "cell_type": "markdown",
   "metadata": {},
   "source": [
    "### Artifical Neural Network ( ANN)\n",
    "- Refers to a biological inspired sub-field of AI modeled after the brain.\n",
    "- Based on biological neural networks that construct ths structure of human brain.\n",
    "- Similar to human brain has neurons interconnected to each other, ANN also has neuron linked \n",
    "\n",
    "## ANN- A single Neuron\n",
    "- Block of mathematical operations lining the entities.\n",
    "- z= w1x1+ w2x2 +b\n",
    "- b= bias\n",
    "- x1,x2= inputs\n",
    "- w1,w2= corresponding weight\n",
    "- f= activate function\n",
    "- y=f(z), y=a/1+e^-z called sigmoid function (output between 0 and 1) -if data is non-liner sigmoid is used\n",
    "\n",
    "- Input- pattern identified(hidden layer)- output layer (input and output layer are fixed):[Interconnected]"
   ]
  },
  {
   "cell_type": "markdown",
   "metadata": {},
   "source": [
    "### Simple Linear Regression"
   ]
  },
  {
   "cell_type": "code",
   "execution_count": 11,
   "metadata": {},
   "outputs": [
    {
     "data": {
      "image/png": "[encoded data removed]",
      "text/plain": [
       "<Figure size 1000x300 with 1 Axes>"
      ]
     },
     "metadata": {},
     "output_type": "display_data"
    }
   ],
   "source": [
    "import pandas as pd\n",
    "import numpy as np\n",
    "import matplotlib.pyplot as plt\n",
    "\n",
    "# From given data,predict sales when price is 20, using simple linear regression\n",
    "sales_data= pd.DataFrame({\n",
    "    'price':[10,12,23,42,18,15],\n",
    "    'sales':[40,38,43,45,3,33]\n",
    "})\n",
    "\n",
    "plt.figure(figsize=(10,3))\n",
    "plt.scatter(\n",
    "    sales_data['price'],\n",
    "    sales_data['sales'],\n",
    "    color='red',\n",
    "    edgecolor='blue'\n",
    ")\n",
    "x=sales_data['price']\n",
    "y=sales_data['sales']\n",
    "# x,y value deyo vani degree nikalxa\n",
    "#find value of m,and c\n",
    "m,c=np.polyfit(x,y,1)\n",
    "#plot the trend line\n",
    "# to make line in scatter chart  plot (y= m*x + c )\n",
    "#plt.plot:plot line\n",
    "plt.plot( x , m * x + c, color='red', linewidth=1, label='sales data')\n",
    "\n",
    "plt.show()"
   ]
  },
  {
   "cell_type": "markdown",
   "metadata": {},
   "source": [
    "## Decision Tree\n",
    "- yes/No answer"
   ]
  },
  {
   "cell_type": "markdown",
   "metadata": {},
   "source": [
    "## Logistic Regression\n",
    "- Logistic Regression i s similar to Linear Regression, but it predicts a probability and classified data into categories like Yes/No\n",
    "- Linear data patter findout vayana vaney sigmoid lagaya rw classified garney"
   ]
  },
  {
   "cell_type": "markdown",
   "metadata": {},
   "source": []
  }
 ],
 "metadata": {
  "kernelspec": {
   "display_name": "base",
   "language": "python",
   "name": "python3"
  },
  "language_info": {
   "codemirror_mode": {
    "name": "ipython",
    "version": 3
   },
   "file_extension": ".py",
   "mimetype": "text/x-python",
   "name": "python",
   "nbconvert_exporter": "python",
   "pygments_lexer": "ipython3",
   "version": "3.12.7"
  }
 },
 "nbformat": 4,
 "nbformat_minor": 2
}
