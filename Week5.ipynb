{
 "cells": [
  {
   "cell_type": "markdown",
   "metadata": {},
   "source": [
    "### Introduction to Machine Learning\n",
    "- AI is the technology that enables computer and machine to simulate human learning, comprehensive, problem solving, decision making. creativity and autonomy.\n",
    "- Algorithm uncover hidden pattern with datasets,allowing them to make prediction on new similar data without exploitation programming for each task\n",
    "\n",
    "### Types of Machine Learning\n",
    "- Supervised Machine Learning\n",
    "    - Give input and output  to computer while training.\n",
    "    - Give label for each things like cat,dog, human (object detection)\n",
    "    - Regression: Continuous values prediction (used in stock marketing,house class forcasting)\n",
    "    - Classification: Descript value i.e (0,1) prediction (yes/No) output - fixed class(imge detction,...)\n",
    "- Unsupervised Machine Learning\n",
    "    - Have Inuput data while training\n",
    "    - Unlabel\n",
    "    - clustuting data\n",
    "    - Dimensionality Reduction\n"
   ]
  },
  {
   "cell_type": "markdown",
   "metadata": {},
   "source": [
    "### Regression- Statistical Approach\n",
    "- It is a statistical method used in economic, financial,investing, and other discipline\n",
    "- "
   ]
  },
  {
   "cell_type": "markdown",
   "metadata": {},
   "source": []
  }
 ],
 "metadata": {
  "kernelspec": {
   "display_name": "base",
   "language": "python",
   "name": "python3"
  },
  "language_info": {
   "name": "python",
   "version": "3.12.7"
  }
 },
 "nbformat": 4,
 "nbformat_minor": 2
}
