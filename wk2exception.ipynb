{
 "cells": [
  {
   "cell_type": "markdown",
   "metadata": {},
   "source": [
    "### Exception Handling \n",
    "- use for run time\n",
    "- It allow us to detect, handle, and recover from unexpected situation without crashing the programing. Python provides a structure way to handle exceptiong using \n",
    "    - try ()\n",
    "    - except (if we try then it will go to except)\n",
    "    - else\n",
    "    - finally"
   ]
  },
  {
   "cell_type": "code",
   "execution_count": 1,
   "metadata": {},
   "outputs": [
    {
     "name": "stdout",
     "output_type": "stream",
     "text": [
      "Error: Division by zero is not allowed\n"
     ]
    }
   ],
   "source": [
    "x=10\n",
    "y=0\n",
    "try:\n",
    "    result= x/y\n",
    "except ZeroDivisionError:\n",
    "    print(\"Error: Division by zero is not allowed\")"
   ]
  },
  {
   "cell_type": "markdown",
   "metadata": {},
   "source": [
    "## Function\n",
    "- Resuable block of code \n",
    "- to write function [def name():] is used (def is keyword for function)\n"
   ]
  },
  {
   "cell_type": "markdown",
   "metadata": {},
   "source": []
  },
  {
   "cell_type": "code",
   "execution_count": 2,
   "metadata": {},
   "outputs": [
    {
     "name": "stdout",
     "output_type": "stream",
     "text": [
      "Error: Division by zero in not allowed\n"
     ]
    }
   ],
   "source": [
    "def divide(num,denominator):\n",
    "    try:\n",
    "        result= num /denominator\n",
    "        return result\n",
    "    except ZeroDivisionError:\n",
    "        print(\"Error: Division by zero in not allowed\")\n",
    "\n",
    "a = 10\n",
    "b= 5\n",
    "x=10\n",
    "y = 0\n",
    "divide (a,b)\n",
    "divide(x,y)"
   ]
  },
  {
   "cell_type": "code",
   "execution_count": 5,
   "metadata": {},
   "outputs": [
    {
     "name": "stdout",
     "output_type": "stream",
     "text": [
      "33\n",
      "11\n",
      "242\n",
      "0\n",
      "2.0\n"
     ]
    }
   ],
   "source": [
    "#calculator\n",
    "def calc(input1, operator, input2):\n",
    "    if operator == '+':\n",
    "        print(input1 + input2)\n",
    "    elif operator == '-':\n",
    "        print(input1 - input2)\n",
    "    elif operator == '*':\n",
    "        print(input1 * input2)\n",
    "    elif operator == '%':\n",
    "        print(input1 % input2)\n",
    "    elif operator == '/':\n",
    "        if input2 == 0:\n",
    "            print(\"Denominator can't be zero\")\n",
    "        else:\n",
    "            print(input1 / input2)\n",
    "    else:\n",
    "        print('Invalid Operator')\n",
    "input1=int(input(\"Enter first number\"))\n",
    "input2= int(input(\"Enter second number\"))\n",
    "calc(input1, '+', input2)\n",
    "calc(input1, '-', input2)\n",
    "calc(input1, '*', input2)\n",
    "calc(input1, '%', input2)\n",
    "calc(input1, '/', input2)"
   ]
  },
  {
   "cell_type": "markdown",
   "metadata": {},
   "source": [
    "# Def function to calc the sine of given angle\n",
    "- i.e sin(pi/4), sin (pi/6)"
   ]
  },
  {
   "cell_type": "code",
   "execution_count": 1,
   "metadata": {},
   "outputs": [],
   "source": [
    "# import math\n",
    "def factorial (n):\n",
    "    factorial = 1\n",
    "    for i in range(1,n+1):\n",
    "        factorial *= i\n",
    "    return  factorial\n",
    "def sine(x, terms=10):\n",
    "# Use Taylor's Series/ Expansion to calc the sin of given angle\n",
    "    sine_sum = 0\n",
    "    for n in range(0,terms):\n",
    "        sign = (-1) ** n\n",
    "        sine_sum += sign * (x ** (2 * n + 1)) / factorial (2 * n + 1)\n",
    "    return sine_sum\n",
    "\n",
    "\n",
    "\n",
    "\n"
   ]
  },
  {
   "cell_type": "markdown",
   "metadata": {},
   "source": [
    "## Paramenter and Arguments:\n",
    "- Function can accept zero or more parameter, which acts as placeholder for value passed during function invocation.\n",
    "- Parameter are specified in the function definition, while argument are the actual values supplied when calling function."
   ]
  },
  {
   "cell_type": "code",
   "execution_count": null,
   "metadata": {},
   "outputs": [
    {
     "name": "stdout",
     "output_type": "stream",
     "text": [
      "8\n"
     ]
    }
   ],
   "source": [
    "def add (x,y): #x,y are parameter are used for making fucntion value dynamic using parameter\n",
    "    return x + y\n",
    "result = add (3,5)  # 3,5 are argument- parameters value pass\n",
    "print(result)"
   ]
  },
  {
   "cell_type": "markdown",
   "metadata": {},
   "source": [
    "## Return\n",
    "- value written\n",
    "- output given by function"
   ]
  },
  {
   "cell_type": "code",
   "execution_count": null,
   "metadata": {},
   "outputs": [
    {
     "name": "stdout",
     "output_type": "stream",
     "text": [
      "even number\n",
      "Number is even\n"
     ]
    }
   ],
   "source": [
    "def is_even_number(number):\n",
    "    if number % 2 == 0:\n",
    "        print('even number') # print only in console\n",
    "        return 'Number is even' # output is the value that are written in return\n",
    "    print('odd number')\n",
    "    return 'Number is odd'\n",
    "check_number= is_even_number(6) #return function output assign in variable\n",
    "print(check_number)\n",
    "    \n",
    "    \n"
   ]
  },
  {
   "cell_type": "markdown",
   "metadata": {},
   "source": [
    "## Lambda Function\n",
    "- They are ofter used for short, simple operator\n",
    "- Used in Functional programming\n"
   ]
  },
  {
   "cell_type": "code",
   "execution_count": 10,
   "metadata": {},
   "outputs": [
    {
     "name": "stdout",
     "output_type": "stream",
     "text": [
      "16\n",
      "4.0\n",
      "27\n"
     ]
    }
   ],
   "source": [
    "square = lambda x : x ** 2 \n",
    "square_root= lambda x : x ** (1/2)\n",
    "cube= lambda n : n**3\n",
    "print(square(4))\n",
    "print(square_root(16))\n",
    "print(cube(3))"
   ]
  },
  {
   "cell_type": "markdown",
   "metadata": {},
   "source": [
    "## Recursive Function and Fibonacci\n",
    "- If one  function call their own function (Recursion)\n"
   ]
  },
  {
   "cell_type": "code",
   "execution_count": 29,
   "metadata": {},
   "outputs": [
    {
     "name": "stdout",
     "output_type": "stream",
     "text": [
      "120\n",
      "21\n"
     ]
    }
   ],
   "source": [
    "# function to calc the factorial using recursion\n",
    "def factorial(n):\n",
    "    if n==1:\n",
    "        return 1\n",
    "    else:\n",
    "        return n*factorial(n-1)\n",
    "print(factorial(5))\n",
    "\n",
    "# func to calc fibonacci number using recursion\n",
    "def fibonacci(n):\n",
    "    if n <= 11:\n",
    "        return n\n",
    "    else:\n",
    "        return fibonacci(n-1)+fibonacci(n-2)\n",
    "print(fibonacci(12))\n"
   ]
  },
  {
   "cell_type": "code",
   "execution_count": null,
   "metadata": {},
   "outputs": [],
   "source": []
  }
 ],
 "metadata": {
  "kernelspec": {
   "display_name": "base",
   "language": "python",
   "name": "python3"
  },
  "language_info": {
   "codemirror_mode": {
    "name": "ipython",
    "version": 3
   },
   "file_extension": ".py",
   "mimetype": "text/x-python",
   "name": "python",
   "nbconvert_exporter": "python",
   "pygments_lexer": "ipython3",
   "version": "3.12.7"
  }
 },
 "nbformat": 4,
 "nbformat_minor": 2
}
